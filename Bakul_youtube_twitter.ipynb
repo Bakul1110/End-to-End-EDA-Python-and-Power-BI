{
 "cells": [
  {
   "cell_type": "code",
   "execution_count": 1,
   "id": "253acfe0",
   "metadata": {},
   "outputs": [],
   "source": [
    "import pandas as pd\n",
    "import numpy as np\n",
    "from matplotlib import pyplot as plt\n",
    "import seaborn as sns\n"
   ]
  },
  {
   "cell_type": "code",
   "execution_count": 2,
   "id": "392a50b3",
   "metadata": {},
   "outputs": [
    {
     "data": {
      "text/html": [
       "<div>\n",
       "<style scoped>\n",
       "    .dataframe tbody tr th:only-of-type {\n",
       "        vertical-align: middle;\n",
       "    }\n",
       "\n",
       "    .dataframe tbody tr th {\n",
       "        vertical-align: top;\n",
       "    }\n",
       "\n",
       "    .dataframe thead th {\n",
       "        text-align: right;\n",
       "    }\n",
       "</style>\n",
       "<table border=\"1\" class=\"dataframe\">\n",
       "  <thead>\n",
       "    <tr style=\"text-align: right;\">\n",
       "      <th></th>\n",
       "      <th>URL</th>\n",
       "      <th>Verified</th>\n",
       "      <th>Verified Accounts</th>\n",
       "      <th>Year</th>\n",
       "      <th>Quarter</th>\n",
       "      <th>Month</th>\n",
       "      <th>Day</th>\n",
       "      <th>Name / ID</th>\n",
       "      <th>Location</th>\n",
       "      <th>Has Description</th>\n",
       "      <th>Followers</th>\n",
       "      <th>Status Available</th>\n",
       "      <th>Accounts Without a Link</th>\n",
       "    </tr>\n",
       "  </thead>\n",
       "  <tbody>\n",
       "    <tr>\n",
       "      <th>0</th>\n",
       "      <td>twitter.com/_gr_SA</td>\n",
       "      <td>False</td>\n",
       "      <td>Non Verified Accounts</td>\n",
       "      <td>2021</td>\n",
       "      <td>Qtr 1</td>\n",
       "      <td>March</td>\n",
       "      <td>9</td>\n",
       "      <td>NaN</td>\n",
       "      <td>Greece</td>\n",
       "      <td>Has Description</td>\n",
       "      <td>113.0</td>\n",
       "      <td>True</td>\n",
       "      <td>Has Link</td>\n",
       "    </tr>\n",
       "    <tr>\n",
       "      <th>1</th>\n",
       "      <td>twitter.com/_idand</td>\n",
       "      <td>False</td>\n",
       "      <td>Non Verified Accounts</td>\n",
       "      <td>2021</td>\n",
       "      <td>Qtr 1</td>\n",
       "      <td>March</td>\n",
       "      <td>9</td>\n",
       "      <td>NaN</td>\n",
       "      <td>NaN</td>\n",
       "      <td>Has Description</td>\n",
       "      <td>10.0</td>\n",
       "      <td>True</td>\n",
       "      <td>Has Link</td>\n",
       "    </tr>\n",
       "  </tbody>\n",
       "</table>\n",
       "</div>"
      ],
      "text/plain": [
       "                  URL Verified      Verified Accounts  Year Quarter  Month  \\\n",
       "0  twitter.com/_gr_SA    False  Non Verified Accounts  2021   Qtr 1  March   \n",
       "1  twitter.com/_idand    False  Non Verified Accounts  2021   Qtr 1  March   \n",
       "\n",
       "   Day Name / ID Location  Has Description  Followers Status Available  \\\n",
       "0    9       NaN   Greece  Has Description      113.0             True   \n",
       "1    9       NaN      NaN  Has Description       10.0             True   \n",
       "\n",
       "  Accounts Without a Link  \n",
       "0                Has Link  \n",
       "1                Has Link  "
      ]
     },
     "execution_count": 2,
     "metadata": {},
     "output_type": "execute_result"
    }
   ],
   "source": [
    "df_twitter = pd.read_csv(\"Twitter Data.csv\")\n",
    "df_twitter.head(2)"
   ]
  },
  {
   "cell_type": "code",
   "execution_count": 3,
   "id": "2f1b7113",
   "metadata": {},
   "outputs": [
    {
     "data": {
      "text/plain": [
       "(629, 13)"
      ]
     },
     "execution_count": 3,
     "metadata": {},
     "output_type": "execute_result"
    }
   ],
   "source": [
    "df_twitter.shape"
   ]
  },
  {
   "cell_type": "code",
   "execution_count": 4,
   "id": "71e2ee83",
   "metadata": {},
   "outputs": [
    {
     "data": {
      "text/html": [
       "<div>\n",
       "<style scoped>\n",
       "    .dataframe tbody tr th:only-of-type {\n",
       "        vertical-align: middle;\n",
       "    }\n",
       "\n",
       "    .dataframe tbody tr th {\n",
       "        vertical-align: top;\n",
       "    }\n",
       "\n",
       "    .dataframe thead th {\n",
       "        text-align: right;\n",
       "    }\n",
       "</style>\n",
       "<table border=\"1\" class=\"dataframe\">\n",
       "  <thead>\n",
       "    <tr style=\"text-align: right;\">\n",
       "      <th></th>\n",
       "      <th>URL</th>\n",
       "      <th>Channel Has Title</th>\n",
       "      <th>Has Description</th>\n",
       "      <th>Location</th>\n",
       "      <th>Year</th>\n",
       "      <th>Quarter</th>\n",
       "      <th>Month</th>\n",
       "      <th>Day</th>\n",
       "      <th>Is Verified</th>\n",
       "      <th>Subscriber</th>\n",
       "    </tr>\n",
       "  </thead>\n",
       "  <tbody>\n",
       "    <tr>\n",
       "      <th>0</th>\n",
       "      <td>youtube.com/channel/UCcQgYUSp3PORuZIQBsXdk4A</td>\n",
       "      <td>Has Title</td>\n",
       "      <td>No Description</td>\n",
       "      <td>NaN</td>\n",
       "      <td>2021</td>\n",
       "      <td>Qtr 1</td>\n",
       "      <td>March</td>\n",
       "      <td>10</td>\n",
       "      <td>NaN</td>\n",
       "      <td>1030.0</td>\n",
       "    </tr>\n",
       "    <tr>\n",
       "      <th>1</th>\n",
       "      <td>youtube.com/channel/UCcQgYUSp3PORuZIQBsXdk4A</td>\n",
       "      <td>Has Title</td>\n",
       "      <td>No Description</td>\n",
       "      <td>NaN</td>\n",
       "      <td>2021</td>\n",
       "      <td>Qtr 3</td>\n",
       "      <td>July</td>\n",
       "      <td>29</td>\n",
       "      <td>NaN</td>\n",
       "      <td>1030.0</td>\n",
       "    </tr>\n",
       "  </tbody>\n",
       "</table>\n",
       "</div>"
      ],
      "text/plain": [
       "                                            URL Channel Has Title  \\\n",
       "0  youtube.com/channel/UCcQgYUSp3PORuZIQBsXdk4A         Has Title   \n",
       "1  youtube.com/channel/UCcQgYUSp3PORuZIQBsXdk4A         Has Title   \n",
       "\n",
       "  Has Description Location  Year Quarter  Month  Day Is Verified  Subscriber  \n",
       "0  No Description      NaN  2021   Qtr 1  March   10         NaN      1030.0  \n",
       "1  No Description      NaN  2021   Qtr 3   July   29         NaN      1030.0  "
      ]
     },
     "execution_count": 4,
     "metadata": {},
     "output_type": "execute_result"
    }
   ],
   "source": [
    "df_youtube = pd.read_csv(\"Youtube Channel Data.csv\")\n",
    "df_youtube.head(2)"
   ]
  },
  {
   "cell_type": "code",
   "execution_count": null,
   "id": "e3dc1941",
   "metadata": {},
   "outputs": [],
   "source": []
  },
  {
   "cell_type": "code",
   "execution_count": 5,
   "id": "bd9775b8",
   "metadata": {},
   "outputs": [
    {
     "data": {
      "text/plain": [
       "(1110, 10)"
      ]
     },
     "execution_count": 5,
     "metadata": {},
     "output_type": "execute_result"
    }
   ],
   "source": [
    "df_youtube.shape"
   ]
  },
  {
   "cell_type": "code",
   "execution_count": 6,
   "id": "e0ec4c56",
   "metadata": {},
   "outputs": [
    {
     "data": {
      "text/html": [
       "<div>\n",
       "<style scoped>\n",
       "    .dataframe tbody tr th:only-of-type {\n",
       "        vertical-align: middle;\n",
       "    }\n",
       "\n",
       "    .dataframe tbody tr th {\n",
       "        vertical-align: top;\n",
       "    }\n",
       "\n",
       "    .dataframe thead th {\n",
       "        text-align: right;\n",
       "    }\n",
       "</style>\n",
       "<table border=\"1\" class=\"dataframe\">\n",
       "  <thead>\n",
       "    <tr style=\"text-align: right;\">\n",
       "      <th></th>\n",
       "      <th>Channel URL</th>\n",
       "      <th>Video URL</th>\n",
       "      <th>Views</th>\n",
       "      <th>Year</th>\n",
       "      <th>Quarter</th>\n",
       "      <th>Month</th>\n",
       "      <th>Day</th>\n",
       "    </tr>\n",
       "  </thead>\n",
       "  <tbody>\n",
       "    <tr>\n",
       "      <th>0</th>\n",
       "      <td>youtube.com/channel/UC_KpTo38S7I2SwQgm1aqaQm2</td>\n",
       "      <td>youtube.com/watch?v=02dDB2JiM</td>\n",
       "      <td>4400</td>\n",
       "      <td>2021</td>\n",
       "      <td>Qtr 1</td>\n",
       "      <td>March</td>\n",
       "      <td>10</td>\n",
       "    </tr>\n",
       "    <tr>\n",
       "      <th>1</th>\n",
       "      <td>youtube.com/channel/UC_KpTo38S7I2SwQgm1aqaQm2</td>\n",
       "      <td>youtube.com/watch?v=0B6Cu1ReY</td>\n",
       "      <td>5679</td>\n",
       "      <td>2021</td>\n",
       "      <td>Qtr 1</td>\n",
       "      <td>March</td>\n",
       "      <td>10</td>\n",
       "    </tr>\n",
       "  </tbody>\n",
       "</table>\n",
       "</div>"
      ],
      "text/plain": [
       "                                     Channel URL  \\\n",
       "0  youtube.com/channel/UC_KpTo38S7I2SwQgm1aqaQm2   \n",
       "1  youtube.com/channel/UC_KpTo38S7I2SwQgm1aqaQm2   \n",
       "\n",
       "                       Video URL  Views  Year Quarter  Month  Day  \n",
       "0  youtube.com/watch?v=02dDB2JiM   4400  2021   Qtr 1  March   10  \n",
       "1  youtube.com/watch?v=0B6Cu1ReY   5679  2021   Qtr 1  March   10  "
      ]
     },
     "execution_count": 6,
     "metadata": {},
     "output_type": "execute_result"
    }
   ],
   "source": [
    "df_ytview = pd.read_csv(\"Youtube Views.csv\")\n",
    "df_ytview.head(2)"
   ]
  },
  {
   "cell_type": "code",
   "execution_count": 7,
   "id": "711d9737",
   "metadata": {},
   "outputs": [
    {
     "data": {
      "text/html": [
       "<div>\n",
       "<style scoped>\n",
       "    .dataframe tbody tr th:only-of-type {\n",
       "        vertical-align: middle;\n",
       "    }\n",
       "\n",
       "    .dataframe tbody tr th {\n",
       "        vertical-align: top;\n",
       "    }\n",
       "\n",
       "    .dataframe thead th {\n",
       "        text-align: right;\n",
       "    }\n",
       "</style>\n",
       "<table border=\"1\" class=\"dataframe\">\n",
       "  <thead>\n",
       "    <tr style=\"text-align: right;\">\n",
       "      <th></th>\n",
       "      <th>URL</th>\n",
       "      <th>Channel Has Title</th>\n",
       "      <th>Has Description</th>\n",
       "      <th>Location</th>\n",
       "      <th>Is Verified</th>\n",
       "      <th>Subscriber</th>\n",
       "    </tr>\n",
       "  </thead>\n",
       "  <tbody>\n",
       "    <tr>\n",
       "      <th>0</th>\n",
       "      <td>youtube.com/channel/UCcQgYUSp3PORuZIQBsXdk4A</td>\n",
       "      <td>Has Title</td>\n",
       "      <td>No Description</td>\n",
       "      <td>NaN</td>\n",
       "      <td>NaN</td>\n",
       "      <td>1030.0</td>\n",
       "    </tr>\n",
       "    <tr>\n",
       "      <th>1</th>\n",
       "      <td>youtube.com/channel/UCcQgYUSp3PORuZIQBsXdk4A</td>\n",
       "      <td>Has Title</td>\n",
       "      <td>No Description</td>\n",
       "      <td>NaN</td>\n",
       "      <td>NaN</td>\n",
       "      <td>1030.0</td>\n",
       "    </tr>\n",
       "  </tbody>\n",
       "</table>\n",
       "</div>"
      ],
      "text/plain": [
       "                                            URL Channel Has Title  \\\n",
       "0  youtube.com/channel/UCcQgYUSp3PORuZIQBsXdk4A         Has Title   \n",
       "1  youtube.com/channel/UCcQgYUSp3PORuZIQBsXdk4A         Has Title   \n",
       "\n",
       "  Has Description Location Is Verified  Subscriber  \n",
       "0  No Description      NaN         NaN      1030.0  \n",
       "1  No Description      NaN         NaN      1030.0  "
      ]
     },
     "execution_count": 7,
     "metadata": {},
     "output_type": "execute_result"
    }
   ],
   "source": [
    "df_yte = df_youtube.drop(columns= [\"Year\",\"Quarter\",\"Month\",\"Day\"])\n",
    "df_yte.head(2)"
   ]
  },
  {
   "cell_type": "code",
   "execution_count": 8,
   "id": "31cc2fa0",
   "metadata": {},
   "outputs": [],
   "source": [
    "df_ytview.rename(columns = {'Channel URL':'URL'}, inplace = True)"
   ]
  },
  {
   "cell_type": "code",
   "execution_count": 9,
   "id": "7a60a57c",
   "metadata": {},
   "outputs": [
    {
     "data": {
      "text/plain": [
       "(20315, 7)"
      ]
     },
     "execution_count": 9,
     "metadata": {},
     "output_type": "execute_result"
    }
   ],
   "source": [
    "df_ytview.shape"
   ]
  },
  {
   "cell_type": "code",
   "execution_count": 10,
   "id": "96e96f6b",
   "metadata": {},
   "outputs": [
    {
     "data": {
      "text/html": [
       "<div>\n",
       "<style scoped>\n",
       "    .dataframe tbody tr th:only-of-type {\n",
       "        vertical-align: middle;\n",
       "    }\n",
       "\n",
       "    .dataframe tbody tr th {\n",
       "        vertical-align: top;\n",
       "    }\n",
       "\n",
       "    .dataframe thead th {\n",
       "        text-align: right;\n",
       "    }\n",
       "</style>\n",
       "<table border=\"1\" class=\"dataframe\">\n",
       "  <thead>\n",
       "    <tr style=\"text-align: right;\">\n",
       "      <th></th>\n",
       "      <th>URL</th>\n",
       "      <th>Video URL</th>\n",
       "      <th>Views</th>\n",
       "      <th>Year</th>\n",
       "      <th>Quarter</th>\n",
       "      <th>Month</th>\n",
       "      <th>Day</th>\n",
       "      <th>Channel Has Title</th>\n",
       "      <th>Has Description</th>\n",
       "      <th>Location</th>\n",
       "      <th>Is Verified</th>\n",
       "      <th>Subscriber</th>\n",
       "    </tr>\n",
       "  </thead>\n",
       "  <tbody>\n",
       "    <tr>\n",
       "      <th>0</th>\n",
       "      <td>youtube.com/channel/UC_KpTo38S7I2SwQgm1aqaQm2</td>\n",
       "      <td>youtube.com/watch?v=02dDB2JiM</td>\n",
       "      <td>4400</td>\n",
       "      <td>2021</td>\n",
       "      <td>Qtr 1</td>\n",
       "      <td>March</td>\n",
       "      <td>10</td>\n",
       "      <td>Has Title</td>\n",
       "      <td>Has Description</td>\n",
       "      <td>Indonesia</td>\n",
       "      <td>False</td>\n",
       "      <td>103000.0</td>\n",
       "    </tr>\n",
       "    <tr>\n",
       "      <th>1</th>\n",
       "      <td>youtube.com/channel/UC_KpTo38S7I2SwQgm1aqaQm2</td>\n",
       "      <td>youtube.com/watch?v=02dDB2JiM</td>\n",
       "      <td>4400</td>\n",
       "      <td>2021</td>\n",
       "      <td>Qtr 1</td>\n",
       "      <td>March</td>\n",
       "      <td>10</td>\n",
       "      <td>Has Title</td>\n",
       "      <td>Has Description</td>\n",
       "      <td>Indonesia</td>\n",
       "      <td>False</td>\n",
       "      <td>103000.0</td>\n",
       "    </tr>\n",
       "    <tr>\n",
       "      <th>2</th>\n",
       "      <td>youtube.com/channel/UC_KpTo38S7I2SwQgm1aqaQm2</td>\n",
       "      <td>youtube.com/watch?v=02dDB2JiM</td>\n",
       "      <td>4400</td>\n",
       "      <td>2021</td>\n",
       "      <td>Qtr 1</td>\n",
       "      <td>March</td>\n",
       "      <td>10</td>\n",
       "      <td>Has Title</td>\n",
       "      <td>Has Description</td>\n",
       "      <td>Indonesia</td>\n",
       "      <td>False</td>\n",
       "      <td>103000.0</td>\n",
       "    </tr>\n",
       "    <tr>\n",
       "      <th>3</th>\n",
       "      <td>youtube.com/channel/UC_KpTo38S7I2SwQgm1aqaQm2</td>\n",
       "      <td>youtube.com/watch?v=02dDB2JiM</td>\n",
       "      <td>4400</td>\n",
       "      <td>2021</td>\n",
       "      <td>Qtr 1</td>\n",
       "      <td>March</td>\n",
       "      <td>10</td>\n",
       "      <td>Has Title</td>\n",
       "      <td>Has Description</td>\n",
       "      <td>ID</td>\n",
       "      <td>NaN</td>\n",
       "      <td>103000.0</td>\n",
       "    </tr>\n",
       "    <tr>\n",
       "      <th>4</th>\n",
       "      <td>youtube.com/channel/UC_KpTo38S7I2SwQgm1aqaQm2</td>\n",
       "      <td>youtube.com/watch?v=0B6Cu1ReY</td>\n",
       "      <td>5679</td>\n",
       "      <td>2021</td>\n",
       "      <td>Qtr 1</td>\n",
       "      <td>March</td>\n",
       "      <td>10</td>\n",
       "      <td>Has Title</td>\n",
       "      <td>Has Description</td>\n",
       "      <td>Indonesia</td>\n",
       "      <td>False</td>\n",
       "      <td>103000.0</td>\n",
       "    </tr>\n",
       "    <tr>\n",
       "      <th>...</th>\n",
       "      <td>...</td>\n",
       "      <td>...</td>\n",
       "      <td>...</td>\n",
       "      <td>...</td>\n",
       "      <td>...</td>\n",
       "      <td>...</td>\n",
       "      <td>...</td>\n",
       "      <td>...</td>\n",
       "      <td>...</td>\n",
       "      <td>...</td>\n",
       "      <td>...</td>\n",
       "      <td>...</td>\n",
       "    </tr>\n",
       "    <tr>\n",
       "      <th>81637</th>\n",
       "      <td>youtube.com/channel/UCBcYa34qB4j3qwNn9NgjlOp3</td>\n",
       "      <td>youtube.com/watch?v=fI3oE5Dgk</td>\n",
       "      <td>888</td>\n",
       "      <td>2021</td>\n",
       "      <td>Qtr 1</td>\n",
       "      <td>March</td>\n",
       "      <td>10</td>\n",
       "      <td>Has Title</td>\n",
       "      <td>Has Description</td>\n",
       "      <td>NaN</td>\n",
       "      <td>False</td>\n",
       "      <td>1600.0</td>\n",
       "    </tr>\n",
       "    <tr>\n",
       "      <th>81638</th>\n",
       "      <td>youtube.com/channel/UCLD2RGCF68e34RmaauCioNs8</td>\n",
       "      <td>youtube.com/watch?v=jpnFx2Xg0</td>\n",
       "      <td>1790</td>\n",
       "      <td>2021</td>\n",
       "      <td>Qtr 1</td>\n",
       "      <td>March</td>\n",
       "      <td>10</td>\n",
       "      <td>Has Title</td>\n",
       "      <td>Has Description</td>\n",
       "      <td>HK</td>\n",
       "      <td>NaN</td>\n",
       "      <td>3850.0</td>\n",
       "    </tr>\n",
       "    <tr>\n",
       "      <th>81639</th>\n",
       "      <td>youtube.com/channel/UCLD2RGCF68e34RmaauCioNs8</td>\n",
       "      <td>youtube.com/watch?v=jpnFx2Xg0</td>\n",
       "      <td>1790</td>\n",
       "      <td>2021</td>\n",
       "      <td>Qtr 1</td>\n",
       "      <td>March</td>\n",
       "      <td>10</td>\n",
       "      <td>Has Title</td>\n",
       "      <td>Has Description</td>\n",
       "      <td>Hong Kong</td>\n",
       "      <td>False</td>\n",
       "      <td>3830.0</td>\n",
       "    </tr>\n",
       "    <tr>\n",
       "      <th>81640</th>\n",
       "      <td>youtube.com/channel/UCLD2RGCF68e34RmaauCioNs8</td>\n",
       "      <td>youtube.com/watch?v=jpnFx2Xg0</td>\n",
       "      <td>1790</td>\n",
       "      <td>2021</td>\n",
       "      <td>Qtr 1</td>\n",
       "      <td>March</td>\n",
       "      <td>10</td>\n",
       "      <td>Has Title</td>\n",
       "      <td>Has Description</td>\n",
       "      <td>Hong Kong</td>\n",
       "      <td>False</td>\n",
       "      <td>3830.0</td>\n",
       "    </tr>\n",
       "    <tr>\n",
       "      <th>81641</th>\n",
       "      <td>youtube.com/channel/UCLD2RGCF68e34RmaauCioNs8</td>\n",
       "      <td>youtube.com/watch?v=jpnFx2Xg0</td>\n",
       "      <td>1790</td>\n",
       "      <td>2021</td>\n",
       "      <td>Qtr 1</td>\n",
       "      <td>March</td>\n",
       "      <td>10</td>\n",
       "      <td>Has Title</td>\n",
       "      <td>Has Description</td>\n",
       "      <td>Hong Kong</td>\n",
       "      <td>False</td>\n",
       "      <td>3820.0</td>\n",
       "    </tr>\n",
       "  </tbody>\n",
       "</table>\n",
       "<p>81642 rows × 12 columns</p>\n",
       "</div>"
      ],
      "text/plain": [
       "                                                 URL  \\\n",
       "0      youtube.com/channel/UC_KpTo38S7I2SwQgm1aqaQm2   \n",
       "1      youtube.com/channel/UC_KpTo38S7I2SwQgm1aqaQm2   \n",
       "2      youtube.com/channel/UC_KpTo38S7I2SwQgm1aqaQm2   \n",
       "3      youtube.com/channel/UC_KpTo38S7I2SwQgm1aqaQm2   \n",
       "4      youtube.com/channel/UC_KpTo38S7I2SwQgm1aqaQm2   \n",
       "...                                              ...   \n",
       "81637  youtube.com/channel/UCBcYa34qB4j3qwNn9NgjlOp3   \n",
       "81638  youtube.com/channel/UCLD2RGCF68e34RmaauCioNs8   \n",
       "81639  youtube.com/channel/UCLD2RGCF68e34RmaauCioNs8   \n",
       "81640  youtube.com/channel/UCLD2RGCF68e34RmaauCioNs8   \n",
       "81641  youtube.com/channel/UCLD2RGCF68e34RmaauCioNs8   \n",
       "\n",
       "                           Video URL  Views  Year Quarter  Month  Day  \\\n",
       "0      youtube.com/watch?v=02dDB2JiM   4400  2021   Qtr 1  March   10   \n",
       "1      youtube.com/watch?v=02dDB2JiM   4400  2021   Qtr 1  March   10   \n",
       "2      youtube.com/watch?v=02dDB2JiM   4400  2021   Qtr 1  March   10   \n",
       "3      youtube.com/watch?v=02dDB2JiM   4400  2021   Qtr 1  March   10   \n",
       "4      youtube.com/watch?v=0B6Cu1ReY   5679  2021   Qtr 1  March   10   \n",
       "...                              ...    ...   ...     ...    ...  ...   \n",
       "81637  youtube.com/watch?v=fI3oE5Dgk    888  2021   Qtr 1  March   10   \n",
       "81638  youtube.com/watch?v=jpnFx2Xg0   1790  2021   Qtr 1  March   10   \n",
       "81639  youtube.com/watch?v=jpnFx2Xg0   1790  2021   Qtr 1  March   10   \n",
       "81640  youtube.com/watch?v=jpnFx2Xg0   1790  2021   Qtr 1  March   10   \n",
       "81641  youtube.com/watch?v=jpnFx2Xg0   1790  2021   Qtr 1  March   10   \n",
       "\n",
       "      Channel Has Title  Has Description   Location Is Verified  Subscriber  \n",
       "0             Has Title  Has Description  Indonesia       False    103000.0  \n",
       "1             Has Title  Has Description  Indonesia       False    103000.0  \n",
       "2             Has Title  Has Description  Indonesia       False    103000.0  \n",
       "3             Has Title  Has Description         ID         NaN    103000.0  \n",
       "4             Has Title  Has Description  Indonesia       False    103000.0  \n",
       "...                 ...              ...        ...         ...         ...  \n",
       "81637         Has Title  Has Description        NaN       False      1600.0  \n",
       "81638         Has Title  Has Description         HK         NaN      3850.0  \n",
       "81639         Has Title  Has Description  Hong Kong       False      3830.0  \n",
       "81640         Has Title  Has Description  Hong Kong       False      3830.0  \n",
       "81641         Has Title  Has Description  Hong Kong       False      3820.0  \n",
       "\n",
       "[81642 rows x 12 columns]"
      ]
     },
     "execution_count": 10,
     "metadata": {},
     "output_type": "execute_result"
    }
   ],
   "source": [
    "df_yt = pd.merge(df_ytview, df_yte, how='left',on= \"URL\")\n",
    "df_yt"
   ]
  },
  {
   "cell_type": "code",
   "execution_count": 11,
   "id": "857d0561",
   "metadata": {},
   "outputs": [
    {
     "data": {
      "text/html": [
       "<div>\n",
       "<style scoped>\n",
       "    .dataframe tbody tr th:only-of-type {\n",
       "        vertical-align: middle;\n",
       "    }\n",
       "\n",
       "    .dataframe tbody tr th {\n",
       "        vertical-align: top;\n",
       "    }\n",
       "\n",
       "    .dataframe thead th {\n",
       "        text-align: right;\n",
       "    }\n",
       "</style>\n",
       "<table border=\"1\" class=\"dataframe\">\n",
       "  <thead>\n",
       "    <tr style=\"text-align: right;\">\n",
       "      <th></th>\n",
       "      <th>Brand</th>\n",
       "      <th>Market</th>\n",
       "      <th>Platform</th>\n",
       "      <th>URL</th>\n",
       "    </tr>\n",
       "  </thead>\n",
       "  <tbody>\n",
       "    <tr>\n",
       "      <th>0</th>\n",
       "      <td>germanrosy</td>\n",
       "      <td>United States of America</td>\n",
       "      <td>Twitter</td>\n",
       "      <td>twitter.com/_gr_SA</td>\n",
       "    </tr>\n",
       "    <tr>\n",
       "      <th>1</th>\n",
       "      <td>carslord</td>\n",
       "      <td>India</td>\n",
       "      <td>Twitter</td>\n",
       "      <td>twitter.com/_idand</td>\n",
       "    </tr>\n",
       "  </tbody>\n",
       "</table>\n",
       "</div>"
      ],
      "text/plain": [
       "        Brand                    Market Platform                 URL\n",
       "0  germanrosy  United States of America  Twitter  twitter.com/_gr_SA\n",
       "1    carslord                     India  Twitter  twitter.com/_idand"
      ]
     },
     "execution_count": 11,
     "metadata": {},
     "output_type": "execute_result"
    }
   ],
   "source": [
    "df_brand = pd.read_csv(\"Brand-Platform-URL.csv\")\n",
    "df_brand.head(2)"
   ]
  },
  {
   "cell_type": "code",
   "execution_count": 12,
   "id": "43544d76",
   "metadata": {},
   "outputs": [
    {
     "data": {
      "text/plain": [
       "(422, 4)"
      ]
     },
     "execution_count": 12,
     "metadata": {},
     "output_type": "execute_result"
    }
   ],
   "source": [
    "df_brand.shape"
   ]
  },
  {
   "cell_type": "code",
   "execution_count": 13,
   "id": "2a69b2f1",
   "metadata": {},
   "outputs": [
    {
     "data": {
      "text/html": [
       "<div>\n",
       "<style scoped>\n",
       "    .dataframe tbody tr th:only-of-type {\n",
       "        vertical-align: middle;\n",
       "    }\n",
       "\n",
       "    .dataframe tbody tr th {\n",
       "        vertical-align: top;\n",
       "    }\n",
       "\n",
       "    .dataframe thead th {\n",
       "        text-align: right;\n",
       "    }\n",
       "</style>\n",
       "<table border=\"1\" class=\"dataframe\">\n",
       "  <thead>\n",
       "    <tr style=\"text-align: right;\">\n",
       "      <th></th>\n",
       "      <th>URL</th>\n",
       "      <th>Verified</th>\n",
       "      <th>Verified Accounts</th>\n",
       "      <th>Year</th>\n",
       "      <th>Quarter</th>\n",
       "      <th>Month</th>\n",
       "      <th>Day</th>\n",
       "      <th>Name / ID</th>\n",
       "      <th>Location</th>\n",
       "      <th>Has Description</th>\n",
       "      <th>Followers</th>\n",
       "      <th>Status Available</th>\n",
       "      <th>Accounts Without a Link</th>\n",
       "      <th>Brand</th>\n",
       "      <th>Market</th>\n",
       "      <th>Platform</th>\n",
       "    </tr>\n",
       "  </thead>\n",
       "  <tbody>\n",
       "    <tr>\n",
       "      <th>0</th>\n",
       "      <td>twitter.com/_gr_SA</td>\n",
       "      <td>False</td>\n",
       "      <td>Non Verified Accounts</td>\n",
       "      <td>2021</td>\n",
       "      <td>Qtr 1</td>\n",
       "      <td>March</td>\n",
       "      <td>9</td>\n",
       "      <td>NaN</td>\n",
       "      <td>Greece</td>\n",
       "      <td>Has Description</td>\n",
       "      <td>113.0</td>\n",
       "      <td>True</td>\n",
       "      <td>Has Link</td>\n",
       "      <td>germanrosy</td>\n",
       "      <td>United States of America</td>\n",
       "      <td>Twitter</td>\n",
       "    </tr>\n",
       "    <tr>\n",
       "      <th>1</th>\n",
       "      <td>twitter.com/_idand</td>\n",
       "      <td>False</td>\n",
       "      <td>Non Verified Accounts</td>\n",
       "      <td>2021</td>\n",
       "      <td>Qtr 1</td>\n",
       "      <td>March</td>\n",
       "      <td>9</td>\n",
       "      <td>NaN</td>\n",
       "      <td>NaN</td>\n",
       "      <td>Has Description</td>\n",
       "      <td>10.0</td>\n",
       "      <td>True</td>\n",
       "      <td>Has Link</td>\n",
       "      <td>carslord</td>\n",
       "      <td>India</td>\n",
       "      <td>Twitter</td>\n",
       "    </tr>\n",
       "    <tr>\n",
       "      <th>2</th>\n",
       "      <td>twitter.com/_nluay</td>\n",
       "      <td>True</td>\n",
       "      <td>Verified Accounts</td>\n",
       "      <td>2021</td>\n",
       "      <td>Qtr 1</td>\n",
       "      <td>March</td>\n",
       "      <td>9</td>\n",
       "      <td>NaN</td>\n",
       "      <td>Amsterdam</td>\n",
       "      <td>Has Description</td>\n",
       "      <td>31393.0</td>\n",
       "      <td>True</td>\n",
       "      <td>Has Link</td>\n",
       "      <td>vandawn</td>\n",
       "      <td>Argentina</td>\n",
       "      <td>Twitter</td>\n",
       "    </tr>\n",
       "    <tr>\n",
       "      <th>3</th>\n",
       "      <td>twitter.com/elllub</td>\n",
       "      <td>True</td>\n",
       "      <td>Verified Accounts</td>\n",
       "      <td>2021</td>\n",
       "      <td>Qtr 1</td>\n",
       "      <td>March</td>\n",
       "      <td>9</td>\n",
       "      <td>NaN</td>\n",
       "      <td>Deutschland Österreich Schweiz</td>\n",
       "      <td>Has Description</td>\n",
       "      <td>1326.0</td>\n",
       "      <td>True</td>\n",
       "      <td>Has Link</td>\n",
       "      <td>aquapeak</td>\n",
       "      <td>Austria</td>\n",
       "      <td>Twitter</td>\n",
       "    </tr>\n",
       "    <tr>\n",
       "      <th>4</th>\n",
       "      <td>twitter.com/_SAina</td>\n",
       "      <td>True</td>\n",
       "      <td>Verified Accounts</td>\n",
       "      <td>2021</td>\n",
       "      <td>Qtr 1</td>\n",
       "      <td>March</td>\n",
       "      <td>9</td>\n",
       "      <td>NaN</td>\n",
       "      <td>South Africa</td>\n",
       "      <td>Has Description</td>\n",
       "      <td>21731.0</td>\n",
       "      <td>True</td>\n",
       "      <td>Has Link</td>\n",
       "      <td>dualjape</td>\n",
       "      <td>Azerbaijan</td>\n",
       "      <td>Twitter</td>\n",
       "    </tr>\n",
       "  </tbody>\n",
       "</table>\n",
       "</div>"
      ],
      "text/plain": [
       "                  URL Verified      Verified Accounts  Year Quarter  Month  \\\n",
       "0  twitter.com/_gr_SA    False  Non Verified Accounts  2021   Qtr 1  March   \n",
       "1  twitter.com/_idand    False  Non Verified Accounts  2021   Qtr 1  March   \n",
       "2  twitter.com/_nluay     True      Verified Accounts  2021   Qtr 1  March   \n",
       "3  twitter.com/elllub     True      Verified Accounts  2021   Qtr 1  March   \n",
       "4  twitter.com/_SAina     True      Verified Accounts  2021   Qtr 1  March   \n",
       "\n",
       "   Day Name / ID                        Location  Has Description  Followers  \\\n",
       "0    9       NaN                          Greece  Has Description      113.0   \n",
       "1    9       NaN                             NaN  Has Description       10.0   \n",
       "2    9       NaN                       Amsterdam  Has Description    31393.0   \n",
       "3    9       NaN  Deutschland Österreich Schweiz  Has Description     1326.0   \n",
       "4    9       NaN                    South Africa  Has Description    21731.0   \n",
       "\n",
       "  Status Available Accounts Without a Link       Brand  \\\n",
       "0             True                Has Link  germanrosy   \n",
       "1             True                Has Link    carslord   \n",
       "2             True                Has Link     vandawn   \n",
       "3             True                Has Link    aquapeak   \n",
       "4             True                Has Link    dualjape   \n",
       "\n",
       "                     Market Platform  \n",
       "0  United States of America  Twitter  \n",
       "1                     India  Twitter  \n",
       "2                 Argentina  Twitter  \n",
       "3                   Austria  Twitter  \n",
       "4                Azerbaijan  Twitter  "
      ]
     },
     "execution_count": 13,
     "metadata": {},
     "output_type": "execute_result"
    }
   ],
   "source": [
    "df_twit = pd.merge(df_twitter, df_brand, how= \"left\", on = \"URL\")\n",
    "df_twit.head()"
   ]
  },
  {
   "cell_type": "code",
   "execution_count": 14,
   "id": "79d792e7",
   "metadata": {},
   "outputs": [
    {
     "data": {
      "text/plain": [
       "(629, 16)"
      ]
     },
     "execution_count": 14,
     "metadata": {},
     "output_type": "execute_result"
    }
   ],
   "source": [
    "df_twit.shape"
   ]
  },
  {
   "cell_type": "markdown",
   "id": "861a74f2",
   "metadata": {},
   "source": [
    "- __df_yt, and df_twit are now the two final datasets that will be analyzed.__\n"
   ]
  },
  {
   "cell_type": "code",
   "execution_count": 15,
   "id": "fa1eaf81",
   "metadata": {},
   "outputs": [
    {
     "name": "stdout",
     "output_type": "stream",
     "text": [
      "<class 'pandas.core.frame.DataFrame'>\n",
      "Int64Index: 81642 entries, 0 to 81641\n",
      "Data columns (total 12 columns):\n",
      " #   Column             Non-Null Count  Dtype  \n",
      "---  ------             --------------  -----  \n",
      " 0   URL                81642 non-null  object \n",
      " 1   Video URL          81642 non-null  object \n",
      " 2   Views              81642 non-null  int64  \n",
      " 3   Year               81642 non-null  int64  \n",
      " 4   Quarter            81642 non-null  object \n",
      " 5   Month              81642 non-null  object \n",
      " 6   Day                81642 non-null  int64  \n",
      " 7   Channel Has Title  81642 non-null  object \n",
      " 8   Has Description    81642 non-null  object \n",
      " 9   Location           39703 non-null  object \n",
      " 10  Is Verified        60375 non-null  object \n",
      " 11  Subscriber         81356 non-null  float64\n",
      "dtypes: float64(1), int64(3), object(8)\n",
      "memory usage: 8.1+ MB\n"
     ]
    }
   ],
   "source": [
    "df_yt.info()"
   ]
  },
  {
   "cell_type": "code",
   "execution_count": 16,
   "id": "2a4ad067",
   "metadata": {},
   "outputs": [
    {
     "data": {
      "text/plain": [
       "array([2021], dtype=int64)"
      ]
     },
     "execution_count": 16,
     "metadata": {},
     "output_type": "execute_result"
    }
   ],
   "source": [
    "df_yt[\"Year\"].unique()"
   ]
  },
  {
   "cell_type": "code",
   "execution_count": 17,
   "id": "445c1487",
   "metadata": {},
   "outputs": [
    {
     "data": {
      "text/plain": [
       "array(['March'], dtype=object)"
      ]
     },
     "execution_count": 17,
     "metadata": {},
     "output_type": "execute_result"
    }
   ],
   "source": [
    "df_yt[\"Month\"].unique()"
   ]
  },
  {
   "cell_type": "code",
   "execution_count": 18,
   "id": "0b9e8b1d",
   "metadata": {},
   "outputs": [
    {
     "data": {
      "text/plain": [
       "array(['Qtr 1'], dtype=object)"
      ]
     },
     "execution_count": 18,
     "metadata": {},
     "output_type": "execute_result"
    }
   ],
   "source": [
    "df_yt[\"Quarter\"].unique()"
   ]
  },
  {
   "cell_type": "code",
   "execution_count": 19,
   "id": "331e93cb",
   "metadata": {},
   "outputs": [
    {
     "name": "stdout",
     "output_type": "stream",
     "text": [
      "URL                   0.000000\n",
      "Video URL             0.000000\n",
      "Views                 0.000000\n",
      "Year                  0.000000\n",
      "Quarter               0.000000\n",
      "Month                 0.000000\n",
      "Day                   0.000000\n",
      "Channel Has Title     0.000000\n",
      "Has Description       0.000000\n",
      "Location             51.369393\n",
      "Is Verified          26.049092\n",
      "Subscriber            0.350310\n",
      "dtype: float64 %\n"
     ]
    }
   ],
   "source": [
    "print((df_yt.isna().sum()/81642)*100,\"%\")"
   ]
  },
  {
   "cell_type": "markdown",
   "id": "53f7d8b5",
   "metadata": {},
   "source": [
    "- 51.36 percent values are missing from location column.\n",
    "\n",
    "- We are not sure regarding the verification of some youtube channels.\n",
    "\n",
    "- About 35% of the youtube channels have no record of its subscribers."
   ]
  },
  {
   "cell_type": "code",
   "execution_count": 20,
   "id": "9a93d3b5",
   "metadata": {},
   "outputs": [
    {
     "data": {
      "text/plain": [
       "array(['Indonesia', 'ID', nan, 'United States', 'US', 'AR', 'Argentina',\n",
       "       'New Zealand', 'NZ', 'HU', 'Hungary', 'Pakistan', 'PK',\n",
       "       'Australia', 'AU', 'Vietnam', 'VN', 'Malaysia', 'MY', 'Taiwan',\n",
       "       'TW', 'Sweden', 'SE', 'Russia', 'RU', 'Paraguay', 'PY', 'Turkey',\n",
       "       'TR', 'MA', 'Morocco', 'Poland', 'PL', 'CZ', 'Czechia', 'Egypt',\n",
       "       'EG', 'South Africa', 'ZA', 'Bangladesh', 'BD', 'Kazakhstan', 'KZ',\n",
       "       'AE', 'United Arab Emirates', 'France', 'FR', 'HK', 'Hong Kong',\n",
       "       'AZ', 'Azerbaijan', 'IT', 'Italy', 'Uruguay', 'UY', 'Philippines',\n",
       "       'PH', 'GR', 'Greece', 'ES', 'Spain', 'DE', 'Germany', 'CA',\n",
       "       'Canada', 'IN', 'India', 'Netherlands', 'NL', 'FI', 'Finland',\n",
       "       'Thailand', 'UA', 'Ukraine', 'Chile', 'CL', 'TH', 'Israel', 'IL',\n",
       "       'Portugal', 'PT', 'Mexico', 'MX', 'GE', 'Georgia', 'SG',\n",
       "       'Singapore', 'Japan', 'JP', 'GB', 'United Kingdom', 'BR', 'Brazil',\n",
       "       'Latvia', 'LV', 'RS', 'Serbia', 'GH', 'Ghana'], dtype=object)"
      ]
     },
     "execution_count": 20,
     "metadata": {},
     "output_type": "execute_result"
    }
   ],
   "source": [
    "df_yt[\"Location\"].unique()"
   ]
  },
  {
   "cell_type": "code",
   "execution_count": 21,
   "id": "c640b317",
   "metadata": {},
   "outputs": [
    {
     "data": {
      "text/plain": [
       "0    Vietnam\n",
       "Name: Location, dtype: object"
      ]
     },
     "execution_count": 21,
     "metadata": {},
     "output_type": "execute_result"
    }
   ],
   "source": [
    "df_yt[\"Location\"].mode() "
   ]
  },
  {
   "cell_type": "markdown",
   "id": "0046c375",
   "metadata": {},
   "source": [
    "- __Mode of the location variable is Vietnam so we can use mean imputation method to replace the missing values with the mode.__"
   ]
  },
  {
   "cell_type": "code",
   "execution_count": 22,
   "id": "b688bf9a",
   "metadata": {},
   "outputs": [
    {
     "data": {
      "text/plain": [
       "array(['Indonesia', 'ID', nan, 'United States', 'US', 'AR', 'Argentina',\n",
       "       'New Zealand', 'NZ', 'HU', 'Hungary', 'Pakistan', 'PK',\n",
       "       'Australia', 'AU', 'Vietnam', 'VN', 'Malaysia', 'MY', 'Taiwan',\n",
       "       'TW', 'Sweden', 'SE', 'Russia', 'RU', 'Paraguay', 'PY', 'Turkey',\n",
       "       'TR', 'MA', 'Morocco', 'Poland', 'PL', 'CZ', 'Czechia', 'Egypt',\n",
       "       'EG', 'South Africa', 'ZA', 'Bangladesh', 'BD', 'Kazakhstan', 'KZ',\n",
       "       'AE', 'United Arab Emirates', 'France', 'FR', 'HK', 'Hong Kong',\n",
       "       'AZ', 'Azerbaijan', 'IT', 'Italy', 'Uruguay', 'UY', 'Philippines',\n",
       "       'PH', 'GR', 'Greece', 'ES', 'Spain', 'DE', 'Germany', 'CA',\n",
       "       'Canada', 'IN', 'India', 'Netherlands', 'NL', 'FI', 'Finland',\n",
       "       'Thailand', 'UA', 'Ukraine', 'Chile', 'CL', 'TH', 'Israel', 'IL',\n",
       "       'Portugal', 'PT', 'Mexico', 'MX', 'GE', 'Georgia', 'SG',\n",
       "       'Singapore', 'Japan', 'JP', 'GB', 'United Kingdom', 'BR', 'Brazil',\n",
       "       'Latvia', 'LV', 'RS', 'Serbia', 'GH', 'Ghana'], dtype=object)"
      ]
     },
     "execution_count": 22,
     "metadata": {},
     "output_type": "execute_result"
    }
   ],
   "source": [
    "df_yt.Location.unique()"
   ]
  },
  {
   "cell_type": "code",
   "execution_count": 23,
   "id": "18d626e2",
   "metadata": {},
   "outputs": [],
   "source": [
    "df_yt = df_yt.replace([\"ID\"],'Indonesia')\n",
    "df_yt = df_yt.replace([\"IT\"],'Italy')\n",
    "df_yt = df_yt.replace([\"IN\"],'India')\n",
    "df_yt = df_yt.replace([\"FR\"],'France')\n",
    "df_yt = df_yt.replace([\"US\"],'United States')\n",
    "df_yt = df_yt.replace([\"NZ\"],'New Zealand')\n",
    "df_yt = df_yt.replace([\"HU\"],'Hungary')\n",
    "df_yt = df_yt.replace([\"PK\"],'Pakistan')\n",
    "df_yt = df_yt.replace([\"AU\"],'Australia')\n",
    "df_yt = df_yt.replace([\"VN\"],'Vietnam')\n",
    "df_yt = df_yt.replace([\"MY\"],'Malaysia')\n",
    "df_yt = df_yt.replace([\"TW\"],'Taiwan')\n",
    "df_yt = df_yt.replace([\"SE\"],'Sweden')\n",
    "df_yt = df_yt.replace([\"RU\"],'Russia')\n",
    "df_yt = df_yt.replace([\"PY\"],'Paraguay')\n",
    "df_yt = df_yt.replace([\"SE\"],'Sweden')\n",
    "df_yt = df_yt.replace([\"TR\"],'Turkey')\n",
    "df_yt = df_yt.replace([\"MA\"],'Morocco')\n",
    "df_yt = df_yt.replace([\"TR\"],'Turkey')\n",
    "df_yt = df_yt.replace([\"PL\"],'Poland')\n",
    "df_yt = df_yt.replace([\"CZ\"],'Czechia')\n",
    "df_yt = df_yt.replace([\"EG\"],'Egypt')\n",
    "df_yt = df_yt.replace([\"ZA\"],'South Africa')\n",
    "df_yt = df_yt.replace([\"BD\"],'Bangladesh')\n",
    "df_yt = df_yt.replace([\"KZ\"],'Kazakastan')\n",
    "df_yt = df_yt.replace([\"AE\"],'United Arab Emirates')\n",
    "df_yt = df_yt.replace([\"HK\"],'Hong Kong')\n",
    "df_yt = df_yt.replace([\"AZ\"],'Azerbaijan')\n",
    "df_yt = df_yt.replace([\"UY\"],'Uruguay')\n",
    "df_yt = df_yt.replace([\"PH\"],'Philippines')\n",
    "df_yt = df_yt.replace([\"GR\"],'Greece')\n",
    "df_yt = df_yt.replace([\"ES\"],'Spain')\n",
    "df_yt = df_yt.replace([\"DE\"],'Germany')\n",
    "df_yt = df_yt.replace([\"CA\"],'Canada')\n",
    "df_yt = df_yt.replace([\"NL\"],'Neitherlands')\n",
    "df_yt = df_yt.replace([\"FI\"],'Finland')\n",
    "df_yt = df_yt.replace([\"UA\"],'Ukraine')\n",
    "df_yt = df_yt.replace([\"CL\"],'Chile')\n",
    "df_yt = df_yt.replace([\"TH\"],'Thailand')\n",
    "df_yt = df_yt.replace([\"IL\"],'Israel')\n",
    "df_yt = df_yt.replace([\"PT\"],'Portugal')\n",
    "df_yt = df_yt.replace([\"MX\"],'Mexico')\n",
    "df_yt = df_yt.replace([\"GE\"],'Georgia')\n",
    "df_yt = df_yt.replace([\"SG\"],'Singapore')\n",
    "df_yt = df_yt.replace([\"JP\"],'Japan')\n",
    "df_yt = df_yt.replace([\"GB\"],'Great Britain(can be)')\n",
    "df_yt = df_yt.replace([\"BR\"],'Brazil')\n",
    "df_yt = df_yt.replace([\"LV\"],'Latvia')\n",
    "df_yt = df_yt.replace([\"RS\"],'Serbia')\n",
    "df_yt = df_yt.replace([\"GH\"],'Ghana')\n",
    "\n",
    "\n"
   ]
  },
  {
   "cell_type": "code",
   "execution_count": 24,
   "id": "d9aafe46",
   "metadata": {},
   "outputs": [
    {
     "data": {
      "text/plain": [
       "array(['Indonesia', nan, 'United States', 'AR', 'Argentina',\n",
       "       'New Zealand', 'Hungary', 'Pakistan', 'Australia', 'Vietnam',\n",
       "       'Malaysia', 'Taiwan', 'Sweden', 'Russia', 'Paraguay', 'Turkey',\n",
       "       'Morocco', 'Poland', 'Czechia', 'Egypt', 'South Africa',\n",
       "       'Bangladesh', 'Kazakhstan', 'Kazakastan', 'United Arab Emirates',\n",
       "       'France', 'Hong Kong', 'Azerbaijan', 'Italy', 'Uruguay',\n",
       "       'Philippines', 'Greece', 'Spain', 'Germany', 'Canada', 'India',\n",
       "       'Netherlands', 'Neitherlands', 'Finland', 'Thailand', 'Ukraine',\n",
       "       'Chile', 'Israel', 'Portugal', 'Mexico', 'Georgia', 'Singapore',\n",
       "       'Japan', 'Great Britain(can be)', 'United Kingdom', 'Brazil',\n",
       "       'Latvia', 'Serbia', 'Ghana'], dtype=object)"
      ]
     },
     "execution_count": 24,
     "metadata": {},
     "output_type": "execute_result"
    }
   ],
   "source": [
    "df_yt.Location.unique()"
   ]
  },
  {
   "cell_type": "markdown",
   "id": "b81ea420",
   "metadata": {},
   "source": [
    "- __The country codes were matched and then were replaced with the country name so as to ensure the reduction of unnecessary categories.__"
   ]
  },
  {
   "cell_type": "code",
   "execution_count": 25,
   "id": "bd4eb767",
   "metadata": {},
   "outputs": [
    {
     "data": {
      "text/plain": [
       "53"
      ]
     },
     "execution_count": 25,
     "metadata": {},
     "output_type": "execute_result"
    }
   ],
   "source": [
    "df_yt.Location.nunique()"
   ]
  },
  {
   "cell_type": "code",
   "execution_count": 26,
   "id": "d3d0849c",
   "metadata": {},
   "outputs": [],
   "source": [
    "df_yt[\"Location\"] = df_yt[\"Location\"].fillna(\"Vietnam\")"
   ]
  },
  {
   "cell_type": "code",
   "execution_count": 27,
   "id": "121a156b",
   "metadata": {},
   "outputs": [],
   "source": [
    "df_yt[\"Is Verified\"] = df_yt[\"Is Verified\"].fillna(\"True\")"
   ]
  },
  {
   "cell_type": "code",
   "execution_count": 28,
   "id": "1a44b0d0",
   "metadata": {},
   "outputs": [
    {
     "name": "stdout",
     "output_type": "stream",
     "text": [
      "URL                  0.00000\n",
      "Video URL            0.00000\n",
      "Views                0.00000\n",
      "Year                 0.00000\n",
      "Quarter              0.00000\n",
      "Month                0.00000\n",
      "Day                  0.00000\n",
      "Channel Has Title    0.00000\n",
      "Has Description      0.00000\n",
      "Location             0.00000\n",
      "Is Verified          0.00000\n",
      "Subscriber           0.35031\n",
      "dtype: float64 %\n"
     ]
    }
   ],
   "source": [
    "print((df_yt.isna().sum()/81642)*100,\"%\")"
   ]
  },
  {
   "cell_type": "code",
   "execution_count": 29,
   "id": "83dd7dbb",
   "metadata": {},
   "outputs": [
    {
     "data": {
      "text/html": [
       "<div>\n",
       "<style scoped>\n",
       "    .dataframe tbody tr th:only-of-type {\n",
       "        vertical-align: middle;\n",
       "    }\n",
       "\n",
       "    .dataframe tbody tr th {\n",
       "        vertical-align: top;\n",
       "    }\n",
       "\n",
       "    .dataframe thead th {\n",
       "        text-align: right;\n",
       "    }\n",
       "</style>\n",
       "<table border=\"1\" class=\"dataframe\">\n",
       "  <thead>\n",
       "    <tr style=\"text-align: right;\">\n",
       "      <th></th>\n",
       "      <th>URL</th>\n",
       "      <th>Video URL</th>\n",
       "      <th>Views</th>\n",
       "      <th>Year</th>\n",
       "      <th>Quarter</th>\n",
       "      <th>Month</th>\n",
       "      <th>Day</th>\n",
       "      <th>Channel Has Title</th>\n",
       "      <th>Has Description</th>\n",
       "      <th>Location</th>\n",
       "      <th>Is Verified</th>\n",
       "      <th>Subscriber</th>\n",
       "    </tr>\n",
       "  </thead>\n",
       "  <tbody>\n",
       "    <tr>\n",
       "      <th>0</th>\n",
       "      <td>youtube.com/channel/UC_KpTo38S7I2SwQgm1aqaQm2</td>\n",
       "      <td>youtube.com/watch?v=02dDB2JiM</td>\n",
       "      <td>4400</td>\n",
       "      <td>2021</td>\n",
       "      <td>Qtr 1</td>\n",
       "      <td>March</td>\n",
       "      <td>10</td>\n",
       "      <td>Has Title</td>\n",
       "      <td>Has Description</td>\n",
       "      <td>Indonesia</td>\n",
       "      <td>False</td>\n",
       "      <td>103000.0</td>\n",
       "    </tr>\n",
       "    <tr>\n",
       "      <th>1</th>\n",
       "      <td>youtube.com/channel/UC_KpTo38S7I2SwQgm1aqaQm2</td>\n",
       "      <td>youtube.com/watch?v=02dDB2JiM</td>\n",
       "      <td>4400</td>\n",
       "      <td>2021</td>\n",
       "      <td>Qtr 1</td>\n",
       "      <td>March</td>\n",
       "      <td>10</td>\n",
       "      <td>Has Title</td>\n",
       "      <td>Has Description</td>\n",
       "      <td>Indonesia</td>\n",
       "      <td>False</td>\n",
       "      <td>103000.0</td>\n",
       "    </tr>\n",
       "    <tr>\n",
       "      <th>2</th>\n",
       "      <td>youtube.com/channel/UC_KpTo38S7I2SwQgm1aqaQm2</td>\n",
       "      <td>youtube.com/watch?v=02dDB2JiM</td>\n",
       "      <td>4400</td>\n",
       "      <td>2021</td>\n",
       "      <td>Qtr 1</td>\n",
       "      <td>March</td>\n",
       "      <td>10</td>\n",
       "      <td>Has Title</td>\n",
       "      <td>Has Description</td>\n",
       "      <td>Indonesia</td>\n",
       "      <td>False</td>\n",
       "      <td>103000.0</td>\n",
       "    </tr>\n",
       "    <tr>\n",
       "      <th>3</th>\n",
       "      <td>youtube.com/channel/UC_KpTo38S7I2SwQgm1aqaQm2</td>\n",
       "      <td>youtube.com/watch?v=02dDB2JiM</td>\n",
       "      <td>4400</td>\n",
       "      <td>2021</td>\n",
       "      <td>Qtr 1</td>\n",
       "      <td>March</td>\n",
       "      <td>10</td>\n",
       "      <td>Has Title</td>\n",
       "      <td>Has Description</td>\n",
       "      <td>Indonesia</td>\n",
       "      <td>True</td>\n",
       "      <td>103000.0</td>\n",
       "    </tr>\n",
       "    <tr>\n",
       "      <th>4</th>\n",
       "      <td>youtube.com/channel/UC_KpTo38S7I2SwQgm1aqaQm2</td>\n",
       "      <td>youtube.com/watch?v=0B6Cu1ReY</td>\n",
       "      <td>5679</td>\n",
       "      <td>2021</td>\n",
       "      <td>Qtr 1</td>\n",
       "      <td>March</td>\n",
       "      <td>10</td>\n",
       "      <td>Has Title</td>\n",
       "      <td>Has Description</td>\n",
       "      <td>Indonesia</td>\n",
       "      <td>False</td>\n",
       "      <td>103000.0</td>\n",
       "    </tr>\n",
       "    <tr>\n",
       "      <th>...</th>\n",
       "      <td>...</td>\n",
       "      <td>...</td>\n",
       "      <td>...</td>\n",
       "      <td>...</td>\n",
       "      <td>...</td>\n",
       "      <td>...</td>\n",
       "      <td>...</td>\n",
       "      <td>...</td>\n",
       "      <td>...</td>\n",
       "      <td>...</td>\n",
       "      <td>...</td>\n",
       "      <td>...</td>\n",
       "    </tr>\n",
       "    <tr>\n",
       "      <th>81637</th>\n",
       "      <td>youtube.com/channel/UCBcYa34qB4j3qwNn9NgjlOp3</td>\n",
       "      <td>youtube.com/watch?v=fI3oE5Dgk</td>\n",
       "      <td>888</td>\n",
       "      <td>2021</td>\n",
       "      <td>Qtr 1</td>\n",
       "      <td>March</td>\n",
       "      <td>10</td>\n",
       "      <td>Has Title</td>\n",
       "      <td>Has Description</td>\n",
       "      <td>Vietnam</td>\n",
       "      <td>False</td>\n",
       "      <td>1600.0</td>\n",
       "    </tr>\n",
       "    <tr>\n",
       "      <th>81638</th>\n",
       "      <td>youtube.com/channel/UCLD2RGCF68e34RmaauCioNs8</td>\n",
       "      <td>youtube.com/watch?v=jpnFx2Xg0</td>\n",
       "      <td>1790</td>\n",
       "      <td>2021</td>\n",
       "      <td>Qtr 1</td>\n",
       "      <td>March</td>\n",
       "      <td>10</td>\n",
       "      <td>Has Title</td>\n",
       "      <td>Has Description</td>\n",
       "      <td>Hong Kong</td>\n",
       "      <td>True</td>\n",
       "      <td>3850.0</td>\n",
       "    </tr>\n",
       "    <tr>\n",
       "      <th>81639</th>\n",
       "      <td>youtube.com/channel/UCLD2RGCF68e34RmaauCioNs8</td>\n",
       "      <td>youtube.com/watch?v=jpnFx2Xg0</td>\n",
       "      <td>1790</td>\n",
       "      <td>2021</td>\n",
       "      <td>Qtr 1</td>\n",
       "      <td>March</td>\n",
       "      <td>10</td>\n",
       "      <td>Has Title</td>\n",
       "      <td>Has Description</td>\n",
       "      <td>Hong Kong</td>\n",
       "      <td>False</td>\n",
       "      <td>3830.0</td>\n",
       "    </tr>\n",
       "    <tr>\n",
       "      <th>81640</th>\n",
       "      <td>youtube.com/channel/UCLD2RGCF68e34RmaauCioNs8</td>\n",
       "      <td>youtube.com/watch?v=jpnFx2Xg0</td>\n",
       "      <td>1790</td>\n",
       "      <td>2021</td>\n",
       "      <td>Qtr 1</td>\n",
       "      <td>March</td>\n",
       "      <td>10</td>\n",
       "      <td>Has Title</td>\n",
       "      <td>Has Description</td>\n",
       "      <td>Hong Kong</td>\n",
       "      <td>False</td>\n",
       "      <td>3830.0</td>\n",
       "    </tr>\n",
       "    <tr>\n",
       "      <th>81641</th>\n",
       "      <td>youtube.com/channel/UCLD2RGCF68e34RmaauCioNs8</td>\n",
       "      <td>youtube.com/watch?v=jpnFx2Xg0</td>\n",
       "      <td>1790</td>\n",
       "      <td>2021</td>\n",
       "      <td>Qtr 1</td>\n",
       "      <td>March</td>\n",
       "      <td>10</td>\n",
       "      <td>Has Title</td>\n",
       "      <td>Has Description</td>\n",
       "      <td>Hong Kong</td>\n",
       "      <td>False</td>\n",
       "      <td>3820.0</td>\n",
       "    </tr>\n",
       "  </tbody>\n",
       "</table>\n",
       "<p>81642 rows × 12 columns</p>\n",
       "</div>"
      ],
      "text/plain": [
       "                                                 URL  \\\n",
       "0      youtube.com/channel/UC_KpTo38S7I2SwQgm1aqaQm2   \n",
       "1      youtube.com/channel/UC_KpTo38S7I2SwQgm1aqaQm2   \n",
       "2      youtube.com/channel/UC_KpTo38S7I2SwQgm1aqaQm2   \n",
       "3      youtube.com/channel/UC_KpTo38S7I2SwQgm1aqaQm2   \n",
       "4      youtube.com/channel/UC_KpTo38S7I2SwQgm1aqaQm2   \n",
       "...                                              ...   \n",
       "81637  youtube.com/channel/UCBcYa34qB4j3qwNn9NgjlOp3   \n",
       "81638  youtube.com/channel/UCLD2RGCF68e34RmaauCioNs8   \n",
       "81639  youtube.com/channel/UCLD2RGCF68e34RmaauCioNs8   \n",
       "81640  youtube.com/channel/UCLD2RGCF68e34RmaauCioNs8   \n",
       "81641  youtube.com/channel/UCLD2RGCF68e34RmaauCioNs8   \n",
       "\n",
       "                           Video URL  Views  Year Quarter  Month  Day  \\\n",
       "0      youtube.com/watch?v=02dDB2JiM   4400  2021   Qtr 1  March   10   \n",
       "1      youtube.com/watch?v=02dDB2JiM   4400  2021   Qtr 1  March   10   \n",
       "2      youtube.com/watch?v=02dDB2JiM   4400  2021   Qtr 1  March   10   \n",
       "3      youtube.com/watch?v=02dDB2JiM   4400  2021   Qtr 1  March   10   \n",
       "4      youtube.com/watch?v=0B6Cu1ReY   5679  2021   Qtr 1  March   10   \n",
       "...                              ...    ...   ...     ...    ...  ...   \n",
       "81637  youtube.com/watch?v=fI3oE5Dgk    888  2021   Qtr 1  March   10   \n",
       "81638  youtube.com/watch?v=jpnFx2Xg0   1790  2021   Qtr 1  March   10   \n",
       "81639  youtube.com/watch?v=jpnFx2Xg0   1790  2021   Qtr 1  March   10   \n",
       "81640  youtube.com/watch?v=jpnFx2Xg0   1790  2021   Qtr 1  March   10   \n",
       "81641  youtube.com/watch?v=jpnFx2Xg0   1790  2021   Qtr 1  March   10   \n",
       "\n",
       "      Channel Has Title  Has Description   Location Is Verified  Subscriber  \n",
       "0             Has Title  Has Description  Indonesia       False    103000.0  \n",
       "1             Has Title  Has Description  Indonesia       False    103000.0  \n",
       "2             Has Title  Has Description  Indonesia       False    103000.0  \n",
       "3             Has Title  Has Description  Indonesia        True    103000.0  \n",
       "4             Has Title  Has Description  Indonesia       False    103000.0  \n",
       "...                 ...              ...        ...         ...         ...  \n",
       "81637         Has Title  Has Description    Vietnam       False      1600.0  \n",
       "81638         Has Title  Has Description  Hong Kong        True      3850.0  \n",
       "81639         Has Title  Has Description  Hong Kong       False      3830.0  \n",
       "81640         Has Title  Has Description  Hong Kong       False      3830.0  \n",
       "81641         Has Title  Has Description  Hong Kong       False      3820.0  \n",
       "\n",
       "[81642 rows x 12 columns]"
      ]
     },
     "execution_count": 29,
     "metadata": {},
     "output_type": "execute_result"
    }
   ],
   "source": [
    "df_yt"
   ]
  },
  {
   "cell_type": "code",
   "execution_count": null,
   "id": "7906ac1b",
   "metadata": {},
   "outputs": [],
   "source": []
  },
  {
   "cell_type": "code",
   "execution_count": 30,
   "id": "3be33fd6",
   "metadata": {},
   "outputs": [
    {
     "data": {
      "text/plain": [
       "93228.75276562269"
      ]
     },
     "execution_count": 30,
     "metadata": {},
     "output_type": "execute_result"
    }
   ],
   "source": [
    "mean = df_yt[\"Subscriber\"].mean()\n",
    "mean"
   ]
  },
  {
   "cell_type": "code",
   "execution_count": 31,
   "id": "8bcee908",
   "metadata": {},
   "outputs": [
    {
     "data": {
      "text/plain": [
       "2.839998570645101"
      ]
     },
     "execution_count": 31,
     "metadata": {},
     "output_type": "execute_result"
    }
   ],
   "source": [
    "df_yt[\"Subscriber\"].skew()"
   ]
  },
  {
   "cell_type": "code",
   "execution_count": 32,
   "id": "1af08541",
   "metadata": {},
   "outputs": [
    {
     "data": {
      "text/plain": [
       "28200.0"
      ]
     },
     "execution_count": 32,
     "metadata": {},
     "output_type": "execute_result"
    }
   ],
   "source": [
    "median = df_yt[\"Subscriber\"].median()\n",
    "median"
   ]
  },
  {
   "cell_type": "code",
   "execution_count": 33,
   "id": "32054c23",
   "metadata": {},
   "outputs": [
    {
     "data": {
      "text/plain": [
       "0    209000.0\n",
       "Name: Subscriber, dtype: float64"
      ]
     },
     "execution_count": 33,
     "metadata": {},
     "output_type": "execute_result"
    }
   ],
   "source": [
    "mode = df_yt[\"Subscriber\"].mode()\n",
    "mode"
   ]
  },
  {
   "cell_type": "code",
   "execution_count": 34,
   "id": "446b358c",
   "metadata": {},
   "outputs": [],
   "source": [
    "df_yt[\"Subscriber\"] = df_yt[\"Subscriber\"].fillna(209000)  #missing values filled with mode"
   ]
  },
  {
   "cell_type": "code",
   "execution_count": 35,
   "id": "54b58c4f",
   "metadata": {},
   "outputs": [
    {
     "name": "stdout",
     "output_type": "stream",
     "text": [
      "URL                  0.0\n",
      "Video URL            0.0\n",
      "Views                0.0\n",
      "Year                 0.0\n",
      "Quarter              0.0\n",
      "Month                0.0\n",
      "Day                  0.0\n",
      "Channel Has Title    0.0\n",
      "Has Description      0.0\n",
      "Location             0.0\n",
      "Is Verified          0.0\n",
      "Subscriber           0.0\n",
      "dtype: float64 %\n"
     ]
    }
   ],
   "source": [
    "print((df_yt.isna().sum()/81642)*100,\"%\")"
   ]
  },
  {
   "cell_type": "markdown",
   "id": "be51e153",
   "metadata": {},
   "source": [
    "# Missing Values Successfully treated"
   ]
  },
  {
   "cell_type": "code",
   "execution_count": 36,
   "id": "bf3fed7a",
   "metadata": {},
   "outputs": [
    {
     "name": "stdout",
     "output_type": "stream",
     "text": [
      "<class 'pandas.core.frame.DataFrame'>\n",
      "Int64Index: 629 entries, 0 to 628\n",
      "Data columns (total 16 columns):\n",
      " #   Column                   Non-Null Count  Dtype  \n",
      "---  ------                   --------------  -----  \n",
      " 0   URL                      629 non-null    object \n",
      " 1   Verified                 607 non-null    object \n",
      " 2   Verified Accounts        607 non-null    object \n",
      " 3   Year                     629 non-null    int64  \n",
      " 4   Quarter                  629 non-null    object \n",
      " 5   Month                    629 non-null    object \n",
      " 6   Day                      629 non-null    int64  \n",
      " 7   Name / ID                485 non-null    object \n",
      " 8   Location                 289 non-null    object \n",
      " 9   Has Description          629 non-null    object \n",
      " 10  Followers                607 non-null    float64\n",
      " 11  Status Available         607 non-null    object \n",
      " 12  Accounts Without a Link  629 non-null    object \n",
      " 13  Brand                    629 non-null    object \n",
      " 14  Market                   629 non-null    object \n",
      " 15  Platform                 629 non-null    object \n",
      "dtypes: float64(1), int64(2), object(13)\n",
      "memory usage: 83.5+ KB\n"
     ]
    }
   ],
   "source": [
    "df_twit.info()"
   ]
  },
  {
   "cell_type": "code",
   "execution_count": 37,
   "id": "779fcf45",
   "metadata": {},
   "outputs": [
    {
     "data": {
      "text/plain": [
       "5.108486564401691"
      ]
     },
     "execution_count": 37,
     "metadata": {},
     "output_type": "execute_result"
    }
   ],
   "source": [
    "df_twit[\"Followers\"].skew()"
   ]
  },
  {
   "cell_type": "code",
   "execution_count": 38,
   "id": "f384f662",
   "metadata": {},
   "outputs": [
    {
     "data": {
      "text/plain": [
       "0    1.0\n",
       "Name: Followers, dtype: float64"
      ]
     },
     "execution_count": 38,
     "metadata": {},
     "output_type": "execute_result"
    }
   ],
   "source": [
    "df_twit[\"Followers\"].mode()"
   ]
  },
  {
   "cell_type": "code",
   "execution_count": 39,
   "id": "5e03cae6",
   "metadata": {},
   "outputs": [],
   "source": [
    "df_twit[\"Followers\"] = df_twit[\"Followers\"].fillna(1.0)"
   ]
  },
  {
   "cell_type": "code",
   "execution_count": 40,
   "id": "e66c611f",
   "metadata": {},
   "outputs": [
    {
     "data": {
      "text/html": [
       "<div>\n",
       "<style scoped>\n",
       "    .dataframe tbody tr th:only-of-type {\n",
       "        vertical-align: middle;\n",
       "    }\n",
       "\n",
       "    .dataframe tbody tr th {\n",
       "        vertical-align: top;\n",
       "    }\n",
       "\n",
       "    .dataframe thead th {\n",
       "        text-align: right;\n",
       "    }\n",
       "</style>\n",
       "<table border=\"1\" class=\"dataframe\">\n",
       "  <thead>\n",
       "    <tr style=\"text-align: right;\">\n",
       "      <th></th>\n",
       "      <th>Year</th>\n",
       "      <th>Day</th>\n",
       "      <th>Followers</th>\n",
       "    </tr>\n",
       "  </thead>\n",
       "  <tbody>\n",
       "    <tr>\n",
       "      <th>count</th>\n",
       "      <td>629.000000</td>\n",
       "      <td>629.000000</td>\n",
       "      <td>629.000000</td>\n",
       "    </tr>\n",
       "    <tr>\n",
       "      <th>mean</th>\n",
       "      <td>2021.510334</td>\n",
       "      <td>20.157393</td>\n",
       "      <td>9734.812401</td>\n",
       "    </tr>\n",
       "    <tr>\n",
       "      <th>std</th>\n",
       "      <td>0.500291</td>\n",
       "      <td>11.007628</td>\n",
       "      <td>19146.919508</td>\n",
       "    </tr>\n",
       "    <tr>\n",
       "      <th>min</th>\n",
       "      <td>2021.000000</td>\n",
       "      <td>9.000000</td>\n",
       "      <td>0.000000</td>\n",
       "    </tr>\n",
       "    <tr>\n",
       "      <th>25%</th>\n",
       "      <td>2021.000000</td>\n",
       "      <td>9.000000</td>\n",
       "      <td>187.000000</td>\n",
       "    </tr>\n",
       "    <tr>\n",
       "      <th>50%</th>\n",
       "      <td>2022.000000</td>\n",
       "      <td>31.000000</td>\n",
       "      <td>2847.000000</td>\n",
       "    </tr>\n",
       "    <tr>\n",
       "      <th>75%</th>\n",
       "      <td>2022.000000</td>\n",
       "      <td>31.000000</td>\n",
       "      <td>11456.000000</td>\n",
       "    </tr>\n",
       "    <tr>\n",
       "      <th>max</th>\n",
       "      <td>2022.000000</td>\n",
       "      <td>31.000000</td>\n",
       "      <td>188739.000000</td>\n",
       "    </tr>\n",
       "  </tbody>\n",
       "</table>\n",
       "</div>"
      ],
      "text/plain": [
       "              Year         Day      Followers\n",
       "count   629.000000  629.000000     629.000000\n",
       "mean   2021.510334   20.157393    9734.812401\n",
       "std       0.500291   11.007628   19146.919508\n",
       "min    2021.000000    9.000000       0.000000\n",
       "25%    2021.000000    9.000000     187.000000\n",
       "50%    2022.000000   31.000000    2847.000000\n",
       "75%    2022.000000   31.000000   11456.000000\n",
       "max    2022.000000   31.000000  188739.000000"
      ]
     },
     "execution_count": 40,
     "metadata": {},
     "output_type": "execute_result"
    }
   ],
   "source": [
    "df_twit.describe()"
   ]
  },
  {
   "cell_type": "code",
   "execution_count": 41,
   "id": "e996cdc4",
   "metadata": {},
   "outputs": [
    {
     "data": {
      "text/plain": [
       "0    True\n",
       "Name: Status Available, dtype: object"
      ]
     },
     "execution_count": 41,
     "metadata": {},
     "output_type": "execute_result"
    }
   ],
   "source": [
    "df_twit[\"Status Available\"].mode()"
   ]
  },
  {
   "cell_type": "code",
   "execution_count": 42,
   "id": "3672e1bb",
   "metadata": {},
   "outputs": [],
   "source": [
    "df_twit[\"Status Available\"] = df_twit[\"Status Available\"].fillna(\"True\")"
   ]
  },
  {
   "cell_type": "code",
   "execution_count": 43,
   "id": "5ecec7e1",
   "metadata": {},
   "outputs": [
    {
     "name": "stdout",
     "output_type": "stream",
     "text": [
      "<class 'pandas.core.frame.DataFrame'>\n",
      "Int64Index: 629 entries, 0 to 628\n",
      "Data columns (total 16 columns):\n",
      " #   Column                   Non-Null Count  Dtype  \n",
      "---  ------                   --------------  -----  \n",
      " 0   URL                      629 non-null    object \n",
      " 1   Verified                 607 non-null    object \n",
      " 2   Verified Accounts        607 non-null    object \n",
      " 3   Year                     629 non-null    int64  \n",
      " 4   Quarter                  629 non-null    object \n",
      " 5   Month                    629 non-null    object \n",
      " 6   Day                      629 non-null    int64  \n",
      " 7   Name / ID                485 non-null    object \n",
      " 8   Location                 289 non-null    object \n",
      " 9   Has Description          629 non-null    object \n",
      " 10  Followers                629 non-null    float64\n",
      " 11  Status Available         629 non-null    object \n",
      " 12  Accounts Without a Link  629 non-null    object \n",
      " 13  Brand                    629 non-null    object \n",
      " 14  Market                   629 non-null    object \n",
      " 15  Platform                 629 non-null    object \n",
      "dtypes: float64(1), int64(2), object(13)\n",
      "memory usage: 83.5+ KB\n"
     ]
    }
   ],
   "source": [
    "df_twit.info()"
   ]
  },
  {
   "cell_type": "code",
   "execution_count": 44,
   "id": "3487bb40",
   "metadata": {},
   "outputs": [
    {
     "data": {
      "text/plain": [
       "0    Dove Men+Care\n",
       "Name: Name / ID, dtype: object"
      ]
     },
     "execution_count": 44,
     "metadata": {},
     "output_type": "execute_result"
    }
   ],
   "source": [
    "df_twit[\"Name / ID\"].unique()\n",
    "\n",
    "df_twit[\"Name / ID\"].mode()"
   ]
  },
  {
   "cell_type": "code",
   "execution_count": 45,
   "id": "a07abae8",
   "metadata": {},
   "outputs": [
    {
     "data": {
      "text/plain": [
       "0      Dove Men+Care\n",
       "1      Dove Men+Care\n",
       "2      Dove Men+Care\n",
       "3      Dove Men+Care\n",
       "4      Dove Men+Care\n",
       "           ...      \n",
       "624          ダヴ Dove\n",
       "625          ダヴ Dove\n",
       "626          ダヴメン＋ケア\n",
       "627          ダヴメン＋ケア\n",
       "628          ダヴメン＋ケア\n",
       "Name: Name / ID, Length: 629, dtype: object"
      ]
     },
     "execution_count": 45,
     "metadata": {},
     "output_type": "execute_result"
    }
   ],
   "source": [
    "df_twit[\"Name / ID\"].fillna(\"Dove Men+Care\")"
   ]
  },
  {
   "cell_type": "code",
   "execution_count": 58,
   "id": "708d012d",
   "metadata": {},
   "outputs": [
    {
     "data": {
      "text/html": [
       "<div>\n",
       "<style scoped>\n",
       "    .dataframe tbody tr th:only-of-type {\n",
       "        vertical-align: middle;\n",
       "    }\n",
       "\n",
       "    .dataframe tbody tr th {\n",
       "        vertical-align: top;\n",
       "    }\n",
       "\n",
       "    .dataframe thead th {\n",
       "        text-align: right;\n",
       "    }\n",
       "</style>\n",
       "<table border=\"1\" class=\"dataframe\">\n",
       "  <thead>\n",
       "    <tr style=\"text-align: right;\">\n",
       "      <th></th>\n",
       "      <th>URL</th>\n",
       "      <th>Verified</th>\n",
       "      <th>Verified Accounts</th>\n",
       "      <th>Year</th>\n",
       "      <th>Quarter</th>\n",
       "      <th>Month</th>\n",
       "      <th>Day</th>\n",
       "      <th>Name / ID</th>\n",
       "      <th>Location</th>\n",
       "      <th>Has Description</th>\n",
       "      <th>Followers</th>\n",
       "      <th>Status Available</th>\n",
       "      <th>Accounts Without a Link</th>\n",
       "      <th>Brand</th>\n",
       "      <th>Market</th>\n",
       "      <th>Platform</th>\n",
       "    </tr>\n",
       "  </thead>\n",
       "  <tbody>\n",
       "    <tr>\n",
       "      <th>0</th>\n",
       "      <td>twitter.com/_gr_SA</td>\n",
       "      <td>False</td>\n",
       "      <td>False</td>\n",
       "      <td>2021</td>\n",
       "      <td>Qtr 1</td>\n",
       "      <td>March</td>\n",
       "      <td>9</td>\n",
       "      <td>NaN</td>\n",
       "      <td>Greece</td>\n",
       "      <td>Has Description</td>\n",
       "      <td>113.0</td>\n",
       "      <td>True</td>\n",
       "      <td>Has Link</td>\n",
       "      <td>germanrosy</td>\n",
       "      <td>United States of America</td>\n",
       "      <td>Twitter</td>\n",
       "    </tr>\n",
       "    <tr>\n",
       "      <th>1</th>\n",
       "      <td>twitter.com/_idand</td>\n",
       "      <td>False</td>\n",
       "      <td>False</td>\n",
       "      <td>2021</td>\n",
       "      <td>Qtr 1</td>\n",
       "      <td>March</td>\n",
       "      <td>9</td>\n",
       "      <td>NaN</td>\n",
       "      <td>NaN</td>\n",
       "      <td>Has Description</td>\n",
       "      <td>10.0</td>\n",
       "      <td>True</td>\n",
       "      <td>Has Link</td>\n",
       "      <td>carslord</td>\n",
       "      <td>India</td>\n",
       "      <td>Twitter</td>\n",
       "    </tr>\n",
       "    <tr>\n",
       "      <th>2</th>\n",
       "      <td>twitter.com/_nluay</td>\n",
       "      <td>True</td>\n",
       "      <td>True</td>\n",
       "      <td>2021</td>\n",
       "      <td>Qtr 1</td>\n",
       "      <td>March</td>\n",
       "      <td>9</td>\n",
       "      <td>NaN</td>\n",
       "      <td>Amsterdam</td>\n",
       "      <td>Has Description</td>\n",
       "      <td>31393.0</td>\n",
       "      <td>True</td>\n",
       "      <td>Has Link</td>\n",
       "      <td>vandawn</td>\n",
       "      <td>Argentina</td>\n",
       "      <td>Twitter</td>\n",
       "    </tr>\n",
       "    <tr>\n",
       "      <th>3</th>\n",
       "      <td>twitter.com/elllub</td>\n",
       "      <td>True</td>\n",
       "      <td>True</td>\n",
       "      <td>2021</td>\n",
       "      <td>Qtr 1</td>\n",
       "      <td>March</td>\n",
       "      <td>9</td>\n",
       "      <td>NaN</td>\n",
       "      <td>Deutschland Österreich Schweiz</td>\n",
       "      <td>Has Description</td>\n",
       "      <td>1326.0</td>\n",
       "      <td>True</td>\n",
       "      <td>Has Link</td>\n",
       "      <td>aquapeak</td>\n",
       "      <td>Austria</td>\n",
       "      <td>Twitter</td>\n",
       "    </tr>\n",
       "    <tr>\n",
       "      <th>4</th>\n",
       "      <td>twitter.com/_SAina</td>\n",
       "      <td>True</td>\n",
       "      <td>True</td>\n",
       "      <td>2021</td>\n",
       "      <td>Qtr 1</td>\n",
       "      <td>March</td>\n",
       "      <td>9</td>\n",
       "      <td>NaN</td>\n",
       "      <td>South Africa</td>\n",
       "      <td>Has Description</td>\n",
       "      <td>21731.0</td>\n",
       "      <td>True</td>\n",
       "      <td>Has Link</td>\n",
       "      <td>dualjape</td>\n",
       "      <td>Azerbaijan</td>\n",
       "      <td>Twitter</td>\n",
       "    </tr>\n",
       "    <tr>\n",
       "      <th>...</th>\n",
       "      <td>...</td>\n",
       "      <td>...</td>\n",
       "      <td>...</td>\n",
       "      <td>...</td>\n",
       "      <td>...</td>\n",
       "      <td>...</td>\n",
       "      <td>...</td>\n",
       "      <td>...</td>\n",
       "      <td>...</td>\n",
       "      <td>...</td>\n",
       "      <td>...</td>\n",
       "      <td>...</td>\n",
       "      <td>...</td>\n",
       "      <td>...</td>\n",
       "      <td>...</td>\n",
       "      <td>...</td>\n",
       "    </tr>\n",
       "    <tr>\n",
       "      <th>624</th>\n",
       "      <td>twitter.com/_jp</td>\n",
       "      <td>True</td>\n",
       "      <td>True</td>\n",
       "      <td>2021</td>\n",
       "      <td>Qtr 4</td>\n",
       "      <td>December</td>\n",
       "      <td>31</td>\n",
       "      <td>ダヴ Dove</td>\n",
       "      <td>NaN</td>\n",
       "      <td>Has Description</td>\n",
       "      <td>42943.0</td>\n",
       "      <td>True</td>\n",
       "      <td>Has Link</td>\n",
       "      <td>ironsoft</td>\n",
       "      <td>Slovenia</td>\n",
       "      <td>Twitter</td>\n",
       "    </tr>\n",
       "    <tr>\n",
       "      <th>625</th>\n",
       "      <td>twitter.com/_jp</td>\n",
       "      <td>True</td>\n",
       "      <td>True</td>\n",
       "      <td>2022</td>\n",
       "      <td>Qtr 2</td>\n",
       "      <td>May</td>\n",
       "      <td>9</td>\n",
       "      <td>ダヴ Dove</td>\n",
       "      <td>NaN</td>\n",
       "      <td>Has Description</td>\n",
       "      <td>41344.0</td>\n",
       "      <td>True</td>\n",
       "      <td>Has Link</td>\n",
       "      <td>ironsoft</td>\n",
       "      <td>Slovenia</td>\n",
       "      <td>Twitter</td>\n",
       "    </tr>\n",
       "    <tr>\n",
       "      <th>626</th>\n",
       "      <td>twitter.com/ejpnpy</td>\n",
       "      <td>False</td>\n",
       "      <td>False</td>\n",
       "      <td>2022</td>\n",
       "      <td>Qtr 2</td>\n",
       "      <td>May</td>\n",
       "      <td>9</td>\n",
       "      <td>ダヴメン＋ケア</td>\n",
       "      <td>NaN</td>\n",
       "      <td>Has Description</td>\n",
       "      <td>314.0</td>\n",
       "      <td>True</td>\n",
       "      <td>Has Link</td>\n",
       "      <td>handfoxy</td>\n",
       "      <td>Italy</td>\n",
       "      <td>Twitter</td>\n",
       "    </tr>\n",
       "    <tr>\n",
       "      <th>627</th>\n",
       "      <td>twitter.com/ejpnpy</td>\n",
       "      <td>True</td>\n",
       "      <td>True</td>\n",
       "      <td>2021</td>\n",
       "      <td>Qtr 4</td>\n",
       "      <td>December</td>\n",
       "      <td>31</td>\n",
       "      <td>ダヴメン＋ケア</td>\n",
       "      <td>NaN</td>\n",
       "      <td>Has Description</td>\n",
       "      <td>323.0</td>\n",
       "      <td>True</td>\n",
       "      <td>Has Link</td>\n",
       "      <td>handfoxy</td>\n",
       "      <td>Italy</td>\n",
       "      <td>Twitter</td>\n",
       "    </tr>\n",
       "    <tr>\n",
       "      <th>628</th>\n",
       "      <td>twitter.com/ejpnpy</td>\n",
       "      <td>True</td>\n",
       "      <td>True</td>\n",
       "      <td>2022</td>\n",
       "      <td>Qtr 1</td>\n",
       "      <td>January</td>\n",
       "      <td>31</td>\n",
       "      <td>ダヴメン＋ケア</td>\n",
       "      <td>NaN</td>\n",
       "      <td>Has Description</td>\n",
       "      <td>321.0</td>\n",
       "      <td>True</td>\n",
       "      <td>Has Link</td>\n",
       "      <td>handfoxy</td>\n",
       "      <td>Italy</td>\n",
       "      <td>Twitter</td>\n",
       "    </tr>\n",
       "  </tbody>\n",
       "</table>\n",
       "<p>629 rows × 16 columns</p>\n",
       "</div>"
      ],
      "text/plain": [
       "                    URL Verified Verified Accounts  Year Quarter     Month  \\\n",
       "0    twitter.com/_gr_SA    False             False  2021   Qtr 1     March   \n",
       "1    twitter.com/_idand    False             False  2021   Qtr 1     March   \n",
       "2    twitter.com/_nluay     True              True  2021   Qtr 1     March   \n",
       "3    twitter.com/elllub     True              True  2021   Qtr 1     March   \n",
       "4    twitter.com/_SAina     True              True  2021   Qtr 1     March   \n",
       "..                  ...      ...               ...   ...     ...       ...   \n",
       "624     twitter.com/_jp     True              True  2021   Qtr 4  December   \n",
       "625     twitter.com/_jp     True              True  2022   Qtr 2       May   \n",
       "626  twitter.com/ejpnpy    False             False  2022   Qtr 2       May   \n",
       "627  twitter.com/ejpnpy     True              True  2021   Qtr 4  December   \n",
       "628  twitter.com/ejpnpy     True              True  2022   Qtr 1   January   \n",
       "\n",
       "     Day Name / ID                        Location  Has Description  \\\n",
       "0      9       NaN                          Greece  Has Description   \n",
       "1      9       NaN                             NaN  Has Description   \n",
       "2      9       NaN                       Amsterdam  Has Description   \n",
       "3      9       NaN  Deutschland Österreich Schweiz  Has Description   \n",
       "4      9       NaN                    South Africa  Has Description   \n",
       "..   ...       ...                             ...              ...   \n",
       "624   31   ダヴ Dove                             NaN  Has Description   \n",
       "625    9   ダヴ Dove                             NaN  Has Description   \n",
       "626    9   ダヴメン＋ケア                             NaN  Has Description   \n",
       "627   31   ダヴメン＋ケア                             NaN  Has Description   \n",
       "628   31   ダヴメン＋ケア                             NaN  Has Description   \n",
       "\n",
       "     Followers Status Available Accounts Without a Link       Brand  \\\n",
       "0        113.0             True                Has Link  germanrosy   \n",
       "1         10.0             True                Has Link    carslord   \n",
       "2      31393.0             True                Has Link     vandawn   \n",
       "3       1326.0             True                Has Link    aquapeak   \n",
       "4      21731.0             True                Has Link    dualjape   \n",
       "..         ...              ...                     ...         ...   \n",
       "624    42943.0             True                Has Link    ironsoft   \n",
       "625    41344.0             True                Has Link    ironsoft   \n",
       "626      314.0             True                Has Link    handfoxy   \n",
       "627      323.0             True                Has Link    handfoxy   \n",
       "628      321.0             True                Has Link    handfoxy   \n",
       "\n",
       "                       Market Platform  \n",
       "0    United States of America  Twitter  \n",
       "1                       India  Twitter  \n",
       "2                   Argentina  Twitter  \n",
       "3                     Austria  Twitter  \n",
       "4                  Azerbaijan  Twitter  \n",
       "..                        ...      ...  \n",
       "624                  Slovenia  Twitter  \n",
       "625                  Slovenia  Twitter  \n",
       "626                     Italy  Twitter  \n",
       "627                     Italy  Twitter  \n",
       "628                     Italy  Twitter  \n",
       "\n",
       "[629 rows x 16 columns]"
      ]
     },
     "execution_count": 58,
     "metadata": {},
     "output_type": "execute_result"
    }
   ],
   "source": [
    "df_twit = df_twit.drop_duplicates()\n",
    "df_twit"
   ]
  },
  {
   "cell_type": "code",
   "execution_count": 59,
   "id": "72395821",
   "metadata": {},
   "outputs": [
    {
     "data": {
      "text/plain": [
       "array([nan,\n",
       "       \"('Connection aborted.', HTTPException('got more than 100 headers'))\",\n",
       "       \"'@Dove_ZA\",\n",
       "       \"[{'code': 63, 'message': 'User has been suspended.'}]\",\n",
       "       '【公式】AXE/アックス', 'Account Takeover by natvarsinghc', 'Axe',\n",
       "       'Axe Angels', 'Axe Azerbaijan', 'AXE Belgium', 'AXE Bolivia',\n",
       "       'AXE Brasil', 'AXE Canada', 'AXE Chile', 'Axe Colombia',\n",
       "       'AXE France', 'Axe Greece', 'AXE Indonesia', 'AXE Latinoamérica',\n",
       "       'Axe México', 'AXE Middle East', 'AXE offiziell', 'Axe Paraguay',\n",
       "       'Axe Philippines', 'AXE Russia', 'AXE South Africa', 'AXE Spain',\n",
       "       'Axe Türkiye', 'Axe Uruguay', 'AXE Venezuela', 'axeargentina',\n",
       "       'AXEThailand', 'Baby Dove Paraguay', 'Brut', 'Clear Arabia',\n",
       "       'Clear Argentina', 'Clear Egypt', 'Clear Hair Care',\n",
       "       'CLEAR Indonesia', 'CLEAR Malaysia', 'Clear Paraguay', 'CLEAR TH',\n",
       "       'Clear Türkiye', 'Clear Uruguay', 'Clear Women', 'CLEAR(クリア)公式',\n",
       "       'Clear.haircare', 'Closeup Philippines', 'Degree',\n",
       "       'Degree - #NotDoneYet', 'Degree Canada', 'Degree Men (@Degree)',\n",
       "       'Dove', 'Dove Arabia', 'Dove Bolivia', 'Dove Brasil',\n",
       "       'Dove Canada', 'Dove Chile', 'Dove España', 'Dove Ghana',\n",
       "       'dove greece', 'Dove India', 'Dove Indonesia', 'Dove Korea',\n",
       "       'Dove Latinoamérica', 'Dove Men + Care', 'Dove Men +Care',\n",
       "       'Dove Men Care Arabia', 'Dove Men Care ES', 'Dove Men Paraguay',\n",
       "       'Dove Men+Care', 'Dove Men+Care Arg', 'Dove MEN+CARE SG',\n",
       "       'Dove Men+Care TR', 'Dove México', 'Dove Pakistan',\n",
       "       'Dove Paraguay', 'Dove Philippines', 'Dove TH', 'Dove Türkiye',\n",
       "       'Dove UK & Ireland', 'Dove Uruguay', 'dove_ar', 'Dove_IDN',\n",
       "       'DoveMenCarePH', 'DoveNL', 'Efecto Axe Ecuador',\n",
       "       'Fair & Lovely Arabia', 'Fair & Lovely India', 'Fair & Lovely MY',\n",
       "       \"HTTPSConnectionPool(host='www.www.axeapollo.com', port=443): Max retries exceeded with url: / (Caused by NewConnectionError('<urllib3.connection.HTTPSConnection object at 0x0000029F0C8CACA0>: Failed to establish a new connection: [Errno 11001] getaddrinfo failed'))\",\n",
       "       \"HTTPSConnectionPool(host='www.www.clearparis.com', port=443): Max retries exceeded with url: / (Caused by NewConnectionError('<urllib3.connection.HTTPSConnection object at 0x00000175582A35E0>: Failed to establish a new connection: [Errno 11001] getaddrinfo failed'))\",\n",
       "       \"HTTPSConnectionPool(host='www.www.clearparis.com', port=443): Max retries exceeded with url: / (Caused by NewConnectionError('<urllib3.connection.HTTPSConnection object at 0x0000029F0C733AC0>: Failed to establish a new connection: [Errno 11001] getaddrinfo failed'))\",\n",
       "       \"HTTPSConnectionPool(host='www.www.dovemen.cl', port=443): Max retries exceeded with url: / (Caused by NewConnectionError('<urllib3.connection.HTTPSConnection object at 0x0000029F0C8CAFA0>: Failed to establish a new connection: [Errno 11001] getaddrinfo failed'))\",\n",
       "       \"HTTPSConnectionPool(host='www.www.elefectoaxe.com', port=443): Max retries exceeded with url: /web/ecuador (Caused by NewConnectionError('<urllib3.connection.HTTPSConnection object at 0x0000029F0C8ACB50>: Failed to establish a new connection: [Errno 11001] getaddrinfo failed'))\",\n",
       "       \"HTTPSConnectionPool(host='www.www.fairandlovely.in', port=443): Max retries exceeded with url: / (Caused by NewConnectionError('<urllib3.connection.HTTPSConnection object at 0x0000029F0C90FA60>: Failed to establish a new connection: [Errno 11001] getaddrinfo failed'))\",\n",
       "       \"HTTPSConnectionPool(host='www.www.mydove.jp', port=443): Max retries exceeded with url: / (Caused by NewConnectionError('<urllib3.connection.HTTPSConnection object at 0x0000029F0C72B790>: Failed to establish a new connection: [Errno 11001] getaddrinfo failed'))\",\n",
       "       \"HTTPSConnectionPool(host='www.www.theaxeeffect.com', port=443): Max retries exceeded with url: / (Caused by NewConnectionError('<urllib3.connection.HTTPSConnection object at 0x0000029F0C8CA040>: Failed to establish a new connection: [Errno 11001] getaddrinfo failed'))\",\n",
       "       'Lifebuoy', 'Lifebuoy Arabia', 'Lifebuoy Brasil',\n",
       "       'Lifebuoy Canada', 'Lifebuoy FC', 'Lifebuoy Ghana',\n",
       "       'Lifebuoy Pakistan', 'Lifebuoy Philippines', 'Lifebuoy UK & IE',\n",
       "       'LifebuoyZA', 'Lynx', 'michele khan', 'Pepsodent Ghana',\n",
       "       'Pepsodent India', 'Pepsodent Kenya', 'Pepsodent Nigeria',\n",
       "       'Rexona', 'Rexona Arabia', 'Rexona Argentina', 'Rexona Australia',\n",
       "       'Rexona Bolivia', 'Rexona Deutschland', 'Rexona El Salvador',\n",
       "       'Rexona España', 'Rexona Ghana', 'Rexona Kenya',\n",
       "       'Rexona Men Ecuador', 'Rexona Men France', 'Rexona Men Paraguay',\n",
       "       'Rexona México', 'Rexona NG', 'Rexona Philippines',\n",
       "       'Rexona Polska', 'Rexona Russia', 'Rexona Thailand',\n",
       "       'Rexona Türkiye', 'Rexona Uruguay', 'Rexona Women PY',\n",
       "       'Sedal Argentina', 'Sedal Bolivia', 'Sedal Paraguay',\n",
       "       'Sedal Paraguay •', 'Sedal Perú', 'Sedal Uruguay', 'Shield Men',\n",
       "       'Shield South Africa', 'Sunsilk Arabia', 'Sunsilk India',\n",
       "       'Sunsilk Indonesia', 'Sunsilk Pakistan', 'Sunsilk PH',\n",
       "       'Sunsilk Singapore', 'SUNSILKMALAYSIA', 'SunsilkThailand',\n",
       "       'Sure UK & Ireland', 'Vida Sedal', 'ダヴ Dove', 'ダヴメン＋ケア'],\n",
       "      dtype=object)"
      ]
     },
     "execution_count": 59,
     "metadata": {},
     "output_type": "execute_result"
    }
   ],
   "source": [
    "df_twit[\"Name / ID\"].unique()"
   ]
  },
  {
   "cell_type": "code",
   "execution_count": 62,
   "id": "943d6d99",
   "metadata": {},
   "outputs": [],
   "source": [
    "df_twit = df_twit.replace([\"HTTPSConnectionPool(host='www.www.axeapollo.com', port=443): Max retries exceeded with url: / (Caused by NewConnectionError('<urllib3.connection.HTTPSConnection object at 0x0000029F0C8CACA0>: Failed to establish a new connection: [Errno 11001] getaddrinfo failed'))\"],\"Axeappolo\")\n",
    "df_twit= df_twit.replace([\"HTTPSConnectionPool(host='www.www.clearparis.com', port=443): Max retries exceeded with url: / (Caused by NewConnectionError('<urllib3.connection.HTTPSConnection object at 0x0000029F0C733AC0>: Failed to establish a new connection: [Errno 11001] getaddrinfo failed'))\"],\"clearparis\")\n",
    "df_twit = df_twit.replace([\"HTTPSConnectionPool(host='www.www.clearparis.com', port=443): Max retries exceeded with url: / (Caused by NewConnectionError('<urllib3.connection.HTTPSConnection object at 0x00000175582A35E0>: Failed to establish a new connection: [Errno 11001] getaddrinfo failed'))\"],\"clearparis\")\n",
    "df_twit = df_twit.replace([\"HTTPSConnectionPool(host='www.www.dovemen.cl', port=443): Max retries exceeded with url: / (Caused by NewConnectionError('<urllib3.connection.HTTPSConnection object at 0x0000029F0C8CAFA0>: Failed to establish a new connection: [Errno 11001] getaddrinfo failed'))\"],\"dovemen\")\n",
    "df_twit = df_twit.replace([\"HTTPSConnectionPool(host='www.www.elefectoaxe.com', port=443): Max retries exceeded with url: /web/ecuador (Caused by NewConnectionError('<urllib3.connection.HTTPSConnection object at 0x0000029F0C8ACB50>: Failed to establish a new connection: [Errno 11001] getaddrinfo failed'))\"],\"elefectoaxe\")\n",
    "df_twit = df_twit.replace([\"HTTPSConnectionPool(host='www.www.fairandlovely.in', port=443): Max retries exceeded with url: / (Caused by NewConnectionError('<urllib3.connection.HTTPSConnection object at 0x0000029F0C90FA60>: Failed to establish a new connection: [Errno 11001] getaddrinfo failed'))\"],\"fairandlovely\")\n",
    "df_twit = df_twit.replace([\"HTTPSConnectionPool(host='www.www.mydove.jp', port=443): Max retries exceeded with url: / (Caused by NewConnectionError('<urllib3.connection.HTTPSConnection object at 0x0000029F0C72B790>: Failed to establish a new connection: [Errno 11001] getaddrinfo failed'))\"],\"mydove\")\n",
    "df_twit = df_twit.replace([\"HTTPSConnectionPool(host='www.www.theaxeeffect.com', port=443): Max retries exceeded with url: / (Caused by NewConnectionError('<urllib3.connection.HTTPSConnection object at 0x0000029F0C8CA040>: Failed to establish a new connection: [Errno 11001] getaddrinfo failed'))\"],\"theaxeeffect\")\n",
    "df_twit = df_twit.replace([\"ダヴメン＋ケア\"],\"Dove Men + Care\") #it's written in chinese dove men +care\n",
    "\n"
   ]
  },
  {
   "cell_type": "code",
   "execution_count": 63,
   "id": "f1afe3f5",
   "metadata": {},
   "outputs": [
    {
     "data": {
      "text/plain": [
       "Name / ID\n",
       "Dove_IDN                0.0\n",
       "fairandlovely           1.0\n",
       "dovemen                 1.0\n",
       "mydove                  1.0\n",
       "Axeappolo               1.0\n",
       "                     ...   \n",
       "CLEAR Indonesia    162094.0\n",
       "Lynx               176385.0\n",
       "Dove               189802.0\n",
       "Dove Men+Care      245965.0\n",
       "Axe                662965.0\n",
       "Name: Followers, Length: 153, dtype: float64"
      ]
     },
     "execution_count": 63,
     "metadata": {},
     "output_type": "execute_result"
    }
   ],
   "source": [
    "name = df_twit.groupby(\"Name / ID\")[\"Followers\"].sum()\n",
    "name.sort_values(ascending= True)\n"
   ]
  },
  {
   "cell_type": "code",
   "execution_count": 77,
   "id": "ae5c0397",
   "metadata": {},
   "outputs": [
    {
     "data": {
      "text/plain": [
       "0    False\n",
       "Name: Verified Accounts, dtype: object"
      ]
     },
     "execution_count": 77,
     "metadata": {},
     "output_type": "execute_result"
    }
   ],
   "source": [
    "df_twit[\"Verified Accounts\"].mode()"
   ]
  },
  {
   "cell_type": "code",
   "execution_count": 64,
   "id": "fcc16128",
   "metadata": {},
   "outputs": [
    {
     "data": {
      "text/plain": [
       "0         Argentina\n",
       "1    United Kingdom\n",
       "Name: Location, dtype: object"
      ]
     },
     "execution_count": 64,
     "metadata": {},
     "output_type": "execute_result"
    }
   ],
   "source": [
    "df_twit[\"Verified Accounts\"].mode()\n",
    "df_twit[\"Verified\"].mode()\n",
    "df_twit[\"Location\"].mode()"
   ]
  },
  {
   "cell_type": "code",
   "execution_count": 65,
   "id": "52f8ed08",
   "metadata": {},
   "outputs": [],
   "source": [
    "df_twit[\"Verified Accounts\"] = df_twit[\"Verified Accounts\"].fillna(\"Non Verified Accounts\")\n",
    "df_twit[\"Verified Accounts\"] = df_twit[\"Verified\"].fillna(\"False\")"
   ]
  },
  {
   "cell_type": "code",
   "execution_count": 66,
   "id": "b8802e6a",
   "metadata": {},
   "outputs": [
    {
     "data": {
      "text/plain": [
       "array(['Greece', nan, 'Amsterdam', 'Deutschland Österreich Schweiz',\n",
       "       'South Africa', 'Argentina', 'Azərbaycan', 'Brasil', 'Canada',\n",
       "       'México', 'Philippines', 'El Paraíso', 'United Kingdom',\n",
       "       'Thailand', 'United States', 'Middle East', 'Mexico City',\n",
       "       'Rotterdam', 'Hamburg, Germany', 'Pakistan', 'Uruguay', 'Accra',\n",
       "       'India', 'Arabia', 'Australia', 'Brazil', 'Santiago, Chile.',\n",
       "       'Paraguay', 'Accra Ghana', 'UK', 'Lima-Perú', 'Kenya', 'Indonesia',\n",
       "       'Ghana', 'Ecuador', 'France', 'Asunción, Paraguay', 'Nigeria',\n",
       "       'Warsaw, Poland', 'Bolivia', 'Malaysia', 'Manila, Philippines',\n",
       "       'Karachi, Pakistan', 'España'], dtype=object)"
      ]
     },
     "execution_count": 66,
     "metadata": {},
     "output_type": "execute_result"
    }
   ],
   "source": [
    "df_twit[\"Location\"].unique()"
   ]
  },
  {
   "cell_type": "markdown",
   "id": "01e185f5",
   "metadata": {},
   "source": [
    "# Handling Errenous values"
   ]
  },
  {
   "cell_type": "code",
   "execution_count": 67,
   "id": "da76d108",
   "metadata": {},
   "outputs": [
    {
     "data": {
      "text/html": [
       "<div>\n",
       "<style scoped>\n",
       "    .dataframe tbody tr th:only-of-type {\n",
       "        vertical-align: middle;\n",
       "    }\n",
       "\n",
       "    .dataframe tbody tr th {\n",
       "        vertical-align: top;\n",
       "    }\n",
       "\n",
       "    .dataframe thead th {\n",
       "        text-align: right;\n",
       "    }\n",
       "</style>\n",
       "<table border=\"1\" class=\"dataframe\">\n",
       "  <thead>\n",
       "    <tr style=\"text-align: right;\">\n",
       "      <th></th>\n",
       "      <th>URL</th>\n",
       "      <th>Verified</th>\n",
       "      <th>Verified Accounts</th>\n",
       "      <th>Year</th>\n",
       "      <th>Quarter</th>\n",
       "      <th>Month</th>\n",
       "      <th>Day</th>\n",
       "      <th>Name / ID</th>\n",
       "      <th>Location</th>\n",
       "      <th>Has Description</th>\n",
       "      <th>Followers</th>\n",
       "      <th>Status Available</th>\n",
       "      <th>Accounts Without a Link</th>\n",
       "      <th>Brand</th>\n",
       "      <th>Market</th>\n",
       "      <th>Platform</th>\n",
       "    </tr>\n",
       "  </thead>\n",
       "  <tbody>\n",
       "  </tbody>\n",
       "</table>\n",
       "</div>"
      ],
      "text/plain": [
       "Empty DataFrame\n",
       "Columns: [URL, Verified, Verified Accounts, Year, Quarter, Month, Day, Name / ID, Location, Has Description, Followers, Status Available, Accounts Without a Link, Brand, Market, Platform]\n",
       "Index: []"
      ]
     },
     "execution_count": 67,
     "metadata": {},
     "output_type": "execute_result"
    }
   ],
   "source": [
    "df_twit[(df_twit[\"Location\"] == \"ประเทศไทย\")]"
   ]
  },
  {
   "cell_type": "code",
   "execution_count": 68,
   "id": "3081a812",
   "metadata": {},
   "outputs": [],
   "source": [
    "df_twit = df_twit.replace(['ประเทศไทย'],'Argentina')\n",
    "df_twit = df_twit.replace(['#DoTheLifebuoy'],'United Kingdom')\n",
    "df_twit = df_twit.replace(['nan'],'United Kingdom')"
   ]
  },
  {
   "cell_type": "code",
   "execution_count": 69,
   "id": "033b92c8",
   "metadata": {},
   "outputs": [
    {
     "data": {
      "text/plain": [
       "array(['Greece', nan, 'Amsterdam', 'Deutschland Österreich Schweiz',\n",
       "       'South Africa', 'Argentina', 'Azərbaycan', 'Brasil', 'Canada',\n",
       "       'México', 'Philippines', 'El Paraíso', 'United Kingdom',\n",
       "       'Thailand', 'United States', 'Middle East', 'Mexico City',\n",
       "       'Rotterdam', 'Hamburg, Germany', 'Pakistan', 'Uruguay', 'Accra',\n",
       "       'India', 'Arabia', 'Australia', 'Brazil', 'Santiago, Chile.',\n",
       "       'Paraguay', 'Accra Ghana', 'UK', 'Lima-Perú', 'Kenya', 'Indonesia',\n",
       "       'Ghana', 'Ecuador', 'France', 'Asunción, Paraguay', 'Nigeria',\n",
       "       'Warsaw, Poland', 'Bolivia', 'Malaysia', 'Manila, Philippines',\n",
       "       'Karachi, Pakistan', 'España'], dtype=object)"
      ]
     },
     "execution_count": 69,
     "metadata": {},
     "output_type": "execute_result"
    }
   ],
   "source": [
    "df_twit[\"Location\"].unique()"
   ]
  },
  {
   "cell_type": "code",
   "execution_count": 70,
   "id": "2d526dfa",
   "metadata": {},
   "outputs": [
    {
     "data": {
      "text/plain": [
       "URL                          0\n",
       "Verified                    22\n",
       "Verified Accounts            0\n",
       "Year                         0\n",
       "Quarter                      0\n",
       "Month                        0\n",
       "Day                          0\n",
       "Name / ID                  144\n",
       "Location                   340\n",
       "Has Description              0\n",
       "Followers                    0\n",
       "Status Available             0\n",
       "Accounts Without a Link      0\n",
       "Brand                        0\n",
       "Market                       0\n",
       "Platform                     0\n",
       "dtype: int64"
      ]
     },
     "execution_count": 70,
     "metadata": {},
     "output_type": "execute_result"
    }
   ],
   "source": [
    "df_twit.isna().sum()"
   ]
  },
  {
   "cell_type": "code",
   "execution_count": 78,
   "id": "4158443c",
   "metadata": {},
   "outputs": [],
   "source": [
    "df_twit[\"Name / ID\"] = df_twit[\"Name / ID\"].fillna(\"Axe\")\n",
    "df_twit[\"Location\"] = df_twit[\"Location\"].fillna(\"Vietnam\")\n",
    "df_twit[\"Verified\"] = df_twit[\"Verified\"].fillna(\"False\")"
   ]
  },
  {
   "cell_type": "code",
   "execution_count": 79,
   "id": "9bc23411",
   "metadata": {},
   "outputs": [
    {
     "data": {
      "text/plain": [
       "URL                        0\n",
       "Verified                   0\n",
       "Verified Accounts          0\n",
       "Year                       0\n",
       "Quarter                    0\n",
       "Month                      0\n",
       "Day                        0\n",
       "Name / ID                  0\n",
       "Location                   0\n",
       "Has Description            0\n",
       "Followers                  0\n",
       "Status Available           0\n",
       "Accounts Without a Link    0\n",
       "Brand                      0\n",
       "Market                     0\n",
       "Platform                   0\n",
       "dtype: int64"
      ]
     },
     "execution_count": 79,
     "metadata": {},
     "output_type": "execute_result"
    }
   ],
   "source": [
    "df_twit.isna().sum()"
   ]
  },
  {
   "cell_type": "code",
   "execution_count": 80,
   "id": "7897f18a",
   "metadata": {},
   "outputs": [],
   "source": [
    "df_yt.to_csv(\"youtube.csv\")"
   ]
  },
  {
   "cell_type": "code",
   "execution_count": 81,
   "id": "b4facbc7",
   "metadata": {},
   "outputs": [],
   "source": [
    "df_twit.to_csv(\"twitter.csv\")"
   ]
  },
  {
   "cell_type": "code",
   "execution_count": null,
   "id": "21c2b9c1",
   "metadata": {},
   "outputs": [],
   "source": []
  }
 ],
 "metadata": {
  "kernelspec": {
   "display_name": "Python 3 (ipykernel)",
   "language": "python",
   "name": "python3"
  },
  "language_info": {
   "codemirror_mode": {
    "name": "ipython",
    "version": 3
   },
   "file_extension": ".py",
   "mimetype": "text/x-python",
   "name": "python",
   "nbconvert_exporter": "python",
   "pygments_lexer": "ipython3",
   "version": "3.10.4"
  }
 },
 "nbformat": 4,
 "nbformat_minor": 5
}
